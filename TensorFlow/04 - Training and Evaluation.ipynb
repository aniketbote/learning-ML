{
 "cells": [
  {
   "cell_type": "markdown",
   "metadata": {},
   "source": [
    "### Custom Training and Evaluation"
   ]
  },
  {
   "cell_type": "code",
   "execution_count": 1,
   "metadata": {},
   "outputs": [],
   "source": [
    "import pandas as pd\n",
    "import tensorflow as tf\n",
    "import numpy as np\n",
    "import seaborn as sns\n",
    "import matplotlib.pyplot as plt\n",
    "from sklearn.model_selection import train_test_split\n",
    "from sklearn.preprocessing import LabelEncoder\n",
    "from pprint import pprint\n",
    "tf.random.set_seed(1000)\n",
    "np.random.seed(1000)"
   ]
  },
  {
   "cell_type": "code",
   "execution_count": 2,
   "metadata": {},
   "outputs": [],
   "source": [
    "train_df = pd.read_csv(\"data/train.csv\")\n",
    "test_df = pd.read_csv(\"data/test.csv\")\n",
    "\n",
    "labelencoder = LabelEncoder()\n",
    "train_df['thal'] = labelencoder.fit_transform(train_df['thal'])\n",
    "test_df['thal'] = labelencoder.transform(test_df['thal'])\n",
    "\n",
    "train_data, val_data = train_test_split(train_df, test_size=0.2, random_state=133, shuffle= True)\n",
    "\n",
    "train_labels = tf.keras.utils.to_categorical(train_data.pop('target'), 2)\n",
    "val_labels = tf.keras.utils.to_categorical(val_data.pop('target'), 2)\n",
    "test_labels = tf.keras.utils.to_categorical(test_df.pop('target'), 2)\n",
    "\n",
    "train_data = train_data.values.astype(\"float32\")\n",
    "val_data = val_data.values.astype(\"float32\")\n",
    "test_data = test_df.values.astype(\"float32\")"
   ]
  },
  {
   "cell_type": "markdown",
   "metadata": {},
   "source": [
    "### Custom loss"
   ]
  },
  {
   "cell_type": "code",
   "execution_count": 3,
   "metadata": {},
   "outputs": [],
   "source": [
    "# Creating Custom Loss\n",
    "def make_loss_fn(wp, wn, epsilon = 1e-7):\n",
    "    wp = tf.cast(tf.constant(wp), tf.float32)\n",
    "    wn = tf.cast(tf.constant(wn), tf.float32)\n",
    "    def weighted_binary_crossentropy(y_true, y_pred):\n",
    "        y_true = tf.cast(y_true, tf.float32)\n",
    "        y_pred = tf.cast(y_pred, tf.float32)\n",
    "        loss = -tf.reduce_mean(tf.add(tf.multiply(wp ,tf.multiply(y_true, tf.math.log(y_pred + epsilon))), tf.multiply(wn, tf.multiply(1 - y_true, tf.math.log(1 - y_pred + epsilon)))))\n",
    "        return loss\n",
    "    return weighted_binary_crossentropy\n",
    "\n",
    "\n",
    "\n",
    "# Creating Custom Loss\n",
    "class WeightedBinaryCrossEntropy(tf.keras.losses.Loss):\n",
    "    def __init__(self, wp, wn, epsilon = 1e-7, name=\"weighted_binary_crossentropy\", **kwargs):\n",
    "        super().__init__(name=name, **kwargs)\n",
    "        self.wp = tf.cast(tf.constant(wp), tf.float32)\n",
    "        self.wn = tf.cast(tf.constant(wn), tf.float32)\n",
    "        self.epsilon = epsilon\n",
    "\n",
    "    def call(self, y_true, y_pred):\n",
    "        y_true = tf.cast(y_true, tf.float32)\n",
    "        y_pred = tf.cast(y_pred, tf.float32)\n",
    "        loss = -tf.reduce_mean(tf.add(tf.multiply(self.wp ,tf.multiply(y_true, tf.math.log(y_pred + self.epsilon))), tf.multiply(self.wn,tf.multiply(1 - y_true, tf.math.log(1 - y_pred + self.epsilon)))))\n",
    "        return loss\n",
    "    \n",
    "    def get_config(self):\n",
    "        config = super().get_config()\n",
    "        config.update({\"wp\": self.wp.numpy(), \"wn\": self.wn.numpy()})\n",
    "        return config\n",
    "    "
   ]
  },
  {
   "cell_type": "code",
   "execution_count": 4,
   "metadata": {},
   "outputs": [
    {
     "name": "stdout",
     "output_type": "stream",
     "text": [
      "tf.Tensor(1.166158, shape=(), dtype=float32)\n",
      "tf.Tensor(1.1661579608917236, shape=(), dtype=float64)\n",
      "tf.Tensor(1.166158, shape=(), dtype=float32)\n"
     ]
    }
   ],
   "source": [
    "# Testing Loss\n",
    "y_true = np.array([[0,1], [1,0], [1,0],[1,0]])\n",
    "y_pred = np.random.uniform(0.0,0.5,(4,2))\n",
    "\n",
    "loss_fn = make_loss_fn([1], [1])\n",
    "print(loss_fn(y_true, y_pred))\n",
    "bc = tf.keras.losses.BinaryCrossentropy()\n",
    "print(bc(y_true, y_pred))\n",
    "wbc = WeightedBinaryCrossEntropy([1],[1])\n",
    "print(wbc(y_true, y_pred))"
   ]
  },
  {
   "cell_type": "markdown",
   "metadata": {},
   "source": [
    "### Custom Metric"
   ]
  },
  {
   "cell_type": "code",
   "execution_count": 5,
   "metadata": {},
   "outputs": [],
   "source": [
    "# Creating Custom Metric\n",
    "class CustomAccuracy(tf.keras.metrics.Metric):\n",
    "    def __init__(self, name = 'custom_accuracy', **kwargs):\n",
    "        super().__init__(name = name, **kwargs)\n",
    "        self.count = self.add_weight(name = 'count', initializer = 'zeros')\n",
    "        self.total = self.add_weight(name = 'total', initializer = 'zeros')\n",
    "        self.custom_accuracy = self.add_weight(name = 'custom_acc', initializer = 'zeros')\n",
    "    \n",
    "    def update_state(self, y_true, y_pred, sample_weight = None): \n",
    "        correct_values = tf.reduce_sum(tf.cast(tf.argmax(y_pred, axis = 1) == tf.argmax(y_true, axis = 1), \"float32\"))\n",
    "        self.count.assign_add(correct_values)\n",
    "        self.total.assign_add(tf.cast(tf.shape(y_true)[0], \"float32\"))\n",
    "        self.custom_accuracy.assign(self.count / self.total)\n",
    "        \n",
    "    def result(self):\n",
    "        return self.custom_accuracy\n",
    "    \n",
    "    def reset_states(self):\n",
    "        self.count.assign(0.0)\n",
    "        self.total.assign(0.0)\n",
    "        self.custom_accuracy.assign(0.0)\n",
    "        \n",
    "\n",
    "\n",
    "# class MTCF1Score(tfa.metrics.FBetaScore):\n",
    "#     def __init__(self,num_classes, threshold = 0.5, beta = 1.0, name=\"mtc_f1_score\", **kwargs):\n",
    "#         super().__init__(num_classes,threshold = threshold, beta = beta, name = name, **kwargs)\n",
    "#         self.mtc_f1_score = self.add_weight(name=\"mtc\", initializer=\"zeros\")\n",
    "\n",
    "#     def update_state(self, y_true, y_pred, sample_weight=None):\n",
    "#         super().update_state(y_true, y_pred, sample_weight=None)\n",
    "\n",
    "#     def result(self):\n",
    "#         f1_score = super().result()\n",
    "#         self.mtc_f1_score.assign(f1_score.shape[0] / tf.reduce_sum(1 / f1_score))\n",
    "#         return self.mtc_f1_score\n",
    "\n",
    "#     def reset_states(self):\n",
    "#         self.mtc_f1_score.assign(0.0)"
   ]
  },
  {
   "cell_type": "code",
   "execution_count": 6,
   "metadata": {},
   "outputs": [
    {
     "name": "stdout",
     "output_type": "stream",
     "text": [
      "0.75\n",
      "0.75\n"
     ]
    }
   ],
   "source": [
    "# Testing Metric\n",
    "y_true = np.array([[0,1], [1,0], [1,0],[1,0]])\n",
    "y_pred = np.random.uniform(0.0,1.0,(4,2))\n",
    "\n",
    "\n",
    "m = tf.keras.metrics.CategoricalAccuracy()\n",
    "m.update_state(y_true, y_pred)\n",
    "print(m.result().numpy())\n",
    "\n",
    "\n",
    "m = CustomAccuracy()\n",
    "m.update_state(y_true, y_pred)\n",
    "print(m.result().numpy())"
   ]
  },
  {
   "cell_type": "markdown",
   "metadata": {},
   "source": [
    "### Custom Layer"
   ]
  },
  {
   "cell_type": "code",
   "execution_count": 7,
   "metadata": {},
   "outputs": [
    {
     "data": {
      "text/plain": [
       "<tf.Tensor: shape=(192, 32), dtype=float32, numpy=\n",
       "array([[ 0.      ,  0.      ,  0.      , ..., 66.29566 , 44.593117,\n",
       "        39.6206  ],\n",
       "       [ 0.      ,  0.      ,  0.      , ..., 47.775726, 31.496809,\n",
       "        22.897074],\n",
       "       [ 0.      ,  0.      ,  0.      , ..., 66.34289 , 43.028225,\n",
       "        37.84705 ],\n",
       "       ...,\n",
       "       [ 0.      ,  0.      ,  0.      , ..., 49.276707, 41.988388,\n",
       "        24.907057],\n",
       "       [ 0.      ,  0.      ,  0.      , ..., 30.521652, 11.87484 ,\n",
       "        13.555855],\n",
       "       [ 0.      ,  0.      ,  0.      , ..., 29.705513, 24.477777,\n",
       "         8.244018]], dtype=float32)>"
      ]
     },
     "execution_count": 7,
     "metadata": {},
     "output_type": "execute_result"
    }
   ],
   "source": [
    "class CustomDense(tf.keras.layers.Layer):\n",
    "    def __init__(self, units=32, activation_fn = None, **kwargs):\n",
    "        super(CustomDense, self).__init__(**kwargs)\n",
    "        self.units = units\n",
    "        self.activation_fn = activation_fn\n",
    "\n",
    "    def build(self, input_shape):\n",
    "        self.w = self.add_weight(\n",
    "            shape=(input_shape[-1], self.units),\n",
    "            initializer=\"glorot_uniform\",\n",
    "            trainable=True,\n",
    "        )\n",
    "        self.b = self.add_weight(\n",
    "            shape=(self.units,), \n",
    "            initializer=\"zeros\", \n",
    "            trainable=True\n",
    "        )\n",
    "\n",
    "    def call(self, inputs):\n",
    "        if self.activation_fn == None:\n",
    "            return tf.matmul(inputs, self.w) + self.b\n",
    "        else:\n",
    "            return self.activation_fn(tf.matmul(inputs, self.w) + self.b)\n",
    "        \n",
    "    def get_config(self):\n",
    "        config = super().get_config()\n",
    "        config.update({\"units\": self.units, \"activation_fn\":self.activation_fn})\n",
    "        return config\n",
    "    \n",
    "\n",
    "d1 = CustomDense(32, tf.keras.activations.relu)\n",
    "d1(train_data)"
   ]
  },
  {
   "cell_type": "code",
   "execution_count": 8,
   "metadata": {},
   "outputs": [
    {
     "data": {
      "image/png": "[encoded data removed]",
      "text/plain": [
       "<IPython.core.display.Image object>"
      ]
     },
     "execution_count": 8,
     "metadata": {},
     "output_type": "execute_result"
    }
   ],
   "source": [
    "def create_model():\n",
    "    input1 = tf.keras.Input(shape=(13,))\n",
    "    hidden1 = tf.keras.layers.Dense(units = 12, activation='relu')(input1)\n",
    "    hidden2 = tf.keras.layers.Dense(units = 6, activation='relu')(hidden1)\n",
    "    output1 = tf.keras.layers.Dense(units = 2, activation='sigmoid')(hidden2)\n",
    "    \n",
    "    model = tf.keras.models.Model(inputs = input1, outputs = output1, name= \"functional1\")\n",
    "    \n",
    "    \n",
    "    model.compile(optimizer='adam',\n",
    "#                   loss = make_loss_fn([1], [1]),\n",
    "                  loss= WeightedBinaryCrossEntropy(wp = [1], wn = [1]),\n",
    "                  metrics=['accuracy', CustomAccuracy()]\n",
    "                 )\n",
    "    return model\n",
    "model = create_model()\n",
    "tf.keras.utils.plot_model(model, 'my_first_model.png', show_shapes=True)"
   ]
  },
  {
   "cell_type": "code",
   "execution_count": 9,
   "metadata": {},
   "outputs": [
    {
     "data": {
      "image/png": "[encoded data removed]",
      "text/plain": [
       "<IPython.core.display.Image object>"
      ]
     },
     "execution_count": 9,
     "metadata": {},
     "output_type": "execute_result"
    }
   ],
   "source": [
    "def create_model1():\n",
    "    input1 = tf.keras.Input(shape=(13,))\n",
    "    hidden1 = CustomDense(12, tf.keras.activations.relu)(input1)\n",
    "    hidden2 = CustomDense(6, tf.keras.activations.relu)(hidden1)\n",
    "    output1 = CustomDense(2, tf.keras.activations.sigmoid)(hidden2)\n",
    "    \n",
    "    model = tf.keras.models.Model(inputs = input1, outputs = output1, name= \"functional1\")\n",
    "    \n",
    "    \n",
    "    model.compile(optimizer='adam',\n",
    "#                   loss = make_loss_fn([1], [1]),\n",
    "                  loss= WeightedBinaryCrossEntropy(wp = [1], wn = [1]),\n",
    "                  metrics=['accuracy', CustomAccuracy()]\n",
    "                 )\n",
    "    return model\n",
    "model1 = create_model1()\n",
    "tf.keras.utils.plot_model(model, 'my_first_model.png', show_shapes=True)"
   ]
  },
  {
   "cell_type": "code",
   "execution_count": 10,
   "metadata": {},
   "outputs": [],
   "source": [
    "# setting same weights\n",
    "model1.set_weights(model.get_weights())"
   ]
  },
  {
   "cell_type": "code",
   "execution_count": 11,
   "metadata": {},
   "outputs": [
    {
     "name": "stdout",
     "output_type": "stream",
     "text": [
      "tf.Tensor(9.106158, shape=(), dtype=float32)\n",
      "tf.Tensor(9.106158, shape=(), dtype=float32)\n"
     ]
    }
   ],
   "source": [
    "# Getting loss\n",
    "pred = model(train_data)\n",
    "wbc = WeightedBinaryCrossEntropy([1],[1])\n",
    "print(wbc(train_labels, pred))\n",
    "\n",
    "pred = model1(train_data)\n",
    "wbc = WeightedBinaryCrossEntropy([1],[1])\n",
    "print(wbc(train_labels, pred))"
   ]
  },
  {
   "cell_type": "code",
   "execution_count": 12,
   "metadata": {},
   "outputs": [
    {
     "name": "stdout",
     "output_type": "stream",
     "text": [
      "Epoch 1/10\n",
      "1/1 [==============================] - 0s 129ms/step - loss: 9.0416 - accuracy: 0.2656 - custom_accuracy: 0.2656 - val_loss: 8.2820 - val_accuracy: 0.2708 - val_custom_accuracy: 0.2708\n",
      "Epoch 2/10\n",
      "1/1 [==============================] - 0s 18ms/step - loss: 8.4705 - accuracy: 0.2656 - custom_accuracy: 0.2656 - val_loss: 7.7206 - val_accuracy: 0.2708 - val_custom_accuracy: 0.2708\n",
      "Epoch 3/10\n",
      "1/1 [==============================] - 0s 16ms/step - loss: 7.9028 - accuracy: 0.2656 - custom_accuracy: 0.2656 - val_loss: 7.1855 - val_accuracy: 0.2708 - val_custom_accuracy: 0.2708\n",
      "Epoch 4/10\n",
      "1/1 [==============================] - 0s 18ms/step - loss: 7.3556 - accuracy: 0.2656 - custom_accuracy: 0.2656 - val_loss: 6.7266 - val_accuracy: 0.2708 - val_custom_accuracy: 0.2708\n",
      "Epoch 5/10\n",
      "1/1 [==============================] - 0s 18ms/step - loss: 6.8629 - accuracy: 0.2656 - custom_accuracy: 0.2656 - val_loss: 6.4055 - val_accuracy: 0.2708 - val_custom_accuracy: 0.2708\n",
      "Epoch 6/10\n",
      "1/1 [==============================] - 0s 18ms/step - loss: 6.4785 - accuracy: 0.2708 - custom_accuracy: 0.2708 - val_loss: 6.2707 - val_accuracy: 0.2708 - val_custom_accuracy: 0.2708\n",
      "Epoch 7/10\n",
      "1/1 [==============================] - 0s 17ms/step - loss: 6.2648 - accuracy: 0.2708 - custom_accuracy: 0.2708 - val_loss: 6.3076 - val_accuracy: 0.2708 - val_custom_accuracy: 0.2708\n",
      "Epoch 8/10\n",
      "1/1 [==============================] - 0s 18ms/step - loss: 6.2349 - accuracy: 0.2708 - custom_accuracy: 0.2708 - val_loss: 6.4215 - val_accuracy: 0.2708 - val_custom_accuracy: 0.2708\n",
      "Epoch 9/10\n",
      "1/1 [==============================] - 0s 16ms/step - loss: 6.3105 - accuracy: 0.2708 - custom_accuracy: 0.2708 - val_loss: 6.5407 - val_accuracy: 0.2708 - val_custom_accuracy: 0.2708\n",
      "Epoch 10/10\n",
      "1/1 [==============================] - 0s 16ms/step - loss: 6.4101 - accuracy: 0.2708 - custom_accuracy: 0.2708 - val_loss: 6.6388 - val_accuracy: 0.2708 - val_custom_accuracy: 0.2708\n"
     ]
    }
   ],
   "source": [
    "history = model.fit(\n",
    "    x = train_data, \n",
    "    y = train_labels,\n",
    "    batch_size = 1000,\n",
    "    epochs = 10,\n",
    "    validation_data = (val_data, val_labels),\n",
    ")"
   ]
  },
  {
   "cell_type": "code",
   "execution_count": 13,
   "metadata": {},
   "outputs": [
    {
     "name": "stdout",
     "output_type": "stream",
     "text": [
      "Epoch 1/10\n",
      "1/1 [==============================] - 0s 108ms/step - loss: 9.0416 - accuracy: 0.2656 - custom_accuracy: 0.2656 - val_loss: 8.2820 - val_accuracy: 0.2708 - val_custom_accuracy: 0.2708\n",
      "Epoch 2/10\n",
      "1/1 [==============================] - 0s 16ms/step - loss: 8.4705 - accuracy: 0.2656 - custom_accuracy: 0.2656 - val_loss: 7.7206 - val_accuracy: 0.2708 - val_custom_accuracy: 0.2708\n",
      "Epoch 3/10\n",
      "1/1 [==============================] - 0s 17ms/step - loss: 7.9028 - accuracy: 0.2656 - custom_accuracy: 0.2656 - val_loss: 7.1855 - val_accuracy: 0.2708 - val_custom_accuracy: 0.2708\n",
      "Epoch 4/10\n",
      "1/1 [==============================] - 0s 17ms/step - loss: 7.3556 - accuracy: 0.2656 - custom_accuracy: 0.2656 - val_loss: 6.7266 - val_accuracy: 0.2708 - val_custom_accuracy: 0.2708\n",
      "Epoch 5/10\n",
      "1/1 [==============================] - 0s 16ms/step - loss: 6.8629 - accuracy: 0.2656 - custom_accuracy: 0.2656 - val_loss: 6.4055 - val_accuracy: 0.2708 - val_custom_accuracy: 0.2708\n",
      "Epoch 6/10\n",
      "1/1 [==============================] - 0s 18ms/step - loss: 6.4785 - accuracy: 0.2708 - custom_accuracy: 0.2708 - val_loss: 6.2707 - val_accuracy: 0.2708 - val_custom_accuracy: 0.2708\n",
      "Epoch 7/10\n",
      "1/1 [==============================] - 0s 16ms/step - loss: 6.2648 - accuracy: 0.2708 - custom_accuracy: 0.2708 - val_loss: 6.3076 - val_accuracy: 0.2708 - val_custom_accuracy: 0.2708\n",
      "Epoch 8/10\n",
      "1/1 [==============================] - 0s 17ms/step - loss: 6.2349 - accuracy: 0.2708 - custom_accuracy: 0.2708 - val_loss: 6.4215 - val_accuracy: 0.2708 - val_custom_accuracy: 0.2708\n",
      "Epoch 9/10\n",
      "1/1 [==============================] - 0s 17ms/step - loss: 6.3105 - accuracy: 0.2708 - custom_accuracy: 0.2708 - val_loss: 6.5407 - val_accuracy: 0.2708 - val_custom_accuracy: 0.2708\n",
      "Epoch 10/10\n",
      "1/1 [==============================] - 0s 18ms/step - loss: 6.4101 - accuracy: 0.2708 - custom_accuracy: 0.2708 - val_loss: 6.6388 - val_accuracy: 0.2708 - val_custom_accuracy: 0.2708\n"
     ]
    }
   ],
   "source": [
    "history = model1.fit(\n",
    "    x = train_data, \n",
    "    y = train_labels,\n",
    "    batch_size = 1000,\n",
    "    epochs = 10,\n",
    "    validation_data = (val_data, val_labels),\n",
    ")"
   ]
  },
  {
   "cell_type": "code",
   "execution_count": 14,
   "metadata": {},
   "outputs": [],
   "source": [
    "custom_objects = {\"CustomDense\": CustomDense, \"CustomAccuracy\": CustomAccuracy, \"WeightedBinaryCrossEntropy\":WeightedBinaryCrossEntropy}\n",
    "tf.keras.models.save_model(model, 'custom.h5')"
   ]
  },
  {
   "cell_type": "code",
   "execution_count": 15,
   "metadata": {},
   "outputs": [],
   "source": [
    "new_model = tf.keras.models.load_model('custom.h5', custom_objects=custom_objects)"
   ]
  },
  {
   "cell_type": "code",
   "execution_count": 19,
   "metadata": {},
   "outputs": [
    {
     "name": "stdout",
     "output_type": "stream",
     "text": [
      "Epoch 1/100\n",
      "1/1 [==============================] - 0s 34ms/step - loss: 6.3792 - accuracy: 0.2708 - custom_accuracy: 0.2708 - val_loss: 6.4130 - val_accuracy: 0.2708 - val_custom_accuracy: 0.2708\n",
      "Epoch 2/100\n",
      "1/1 [==============================] - 0s 20ms/step - loss: 6.3146 - accuracy: 0.2708 - custom_accuracy: 0.2708 - val_loss: 6.3369 - val_accuracy: 0.2708 - val_custom_accuracy: 0.2708\n",
      "Epoch 3/100\n",
      "1/1 [==============================] - 0s 18ms/step - loss: 6.2558 - accuracy: 0.2708 - custom_accuracy: 0.2708 - val_loss: 6.2705 - val_accuracy: 0.2708 - val_custom_accuracy: 0.2708\n",
      "Epoch 4/100\n",
      "1/1 [==============================] - 0s 16ms/step - loss: 6.2112 - accuracy: 0.2708 - custom_accuracy: 0.2708 - val_loss: 6.2227 - val_accuracy: 0.2708 - val_custom_accuracy: 0.2708\n",
      "Epoch 5/100\n",
      "1/1 [==============================] - 0s 17ms/step - loss: 6.1884 - accuracy: 0.2708 - custom_accuracy: 0.2708 - val_loss: 6.1996 - val_accuracy: 0.2708 - val_custom_accuracy: 0.2708\n",
      "Epoch 6/100\n",
      "1/1 [==============================] - 0s 18ms/step - loss: 6.1906 - accuracy: 0.2708 - custom_accuracy: 0.2708 - val_loss: 6.1995 - val_accuracy: 0.2708 - val_custom_accuracy: 0.2708\n",
      "Epoch 7/100\n",
      "1/1 [==============================] - 0s 17ms/step - loss: 6.2131 - accuracy: 0.2708 - custom_accuracy: 0.2708 - val_loss: 6.2128 - val_accuracy: 0.2708 - val_custom_accuracy: 0.2708\n",
      "Epoch 8/100\n",
      "1/1 [==============================] - 0s 16ms/step - loss: 6.2435 - accuracy: 0.2708 - custom_accuracy: 0.2708 - val_loss: 6.2267 - val_accuracy: 0.2708 - val_custom_accuracy: 0.2708\n",
      "Epoch 9/100\n",
      "1/1 [==============================] - 0s 18ms/step - loss: 6.2683 - accuracy: 0.2656 - custom_accuracy: 0.2656 - val_loss: 6.2317 - val_accuracy: 0.2708 - val_custom_accuracy: 0.2708\n",
      "Epoch 10/100\n",
      "1/1 [==============================] - 0s 16ms/step - loss: 6.2782 - accuracy: 0.2656 - custom_accuracy: 0.2656 - val_loss: 6.2247 - val_accuracy: 0.2708 - val_custom_accuracy: 0.2708\n",
      "Epoch 11/100\n",
      "1/1 [==============================] - 0s 17ms/step - loss: 6.2702 - accuracy: 0.2656 - custom_accuracy: 0.2656 - val_loss: 6.2080 - val_accuracy: 0.2708 - val_custom_accuracy: 0.2708\n",
      "Epoch 12/100\n",
      "1/1 [==============================] - 0s 16ms/step - loss: 6.2477 - accuracy: 0.2656 - custom_accuracy: 0.2656 - val_loss: 6.1877 - val_accuracy: 0.2708 - val_custom_accuracy: 0.2708\n",
      "Epoch 13/100\n",
      "1/1 [==============================] - 0s 17ms/step - loss: 6.2181 - accuracy: 0.2656 - custom_accuracy: 0.2656 - val_loss: 6.1706 - val_accuracy: 0.2708 - val_custom_accuracy: 0.2708\n",
      "Epoch 14/100\n",
      "1/1 [==============================] - 0s 16ms/step - loss: 6.1895 - accuracy: 0.2708 - custom_accuracy: 0.2708 - val_loss: 6.1618 - val_accuracy: 0.2708 - val_custom_accuracy: 0.2708\n",
      "Epoch 15/100\n",
      "1/1 [==============================] - 0s 18ms/step - loss: 6.1688 - accuracy: 0.2708 - custom_accuracy: 0.2708 - val_loss: 6.1632 - val_accuracy: 0.2708 - val_custom_accuracy: 0.2708\n",
      "Epoch 16/100\n",
      "1/1 [==============================] - 0s 16ms/step - loss: 6.1587 - accuracy: 0.2708 - custom_accuracy: 0.2708 - val_loss: 6.1724 - val_accuracy: 0.2708 - val_custom_accuracy: 0.2708\n",
      "Epoch 17/100\n",
      "1/1 [==============================] - 0s 18ms/step - loss: 6.1581 - accuracy: 0.2708 - custom_accuracy: 0.2708 - val_loss: 6.1856 - val_accuracy: 0.2708 - val_custom_accuracy: 0.2708\n",
      "Epoch 18/100\n",
      "1/1 [==============================] - 0s 17ms/step - loss: 6.1637 - accuracy: 0.2708 - custom_accuracy: 0.2708 - val_loss: 6.1981 - val_accuracy: 0.2708 - val_custom_accuracy: 0.2708\n",
      "Epoch 19/100\n",
      "1/1 [==============================] - 0s 17ms/step - loss: 6.1712 - accuracy: 0.2708 - custom_accuracy: 0.2708 - val_loss: 6.2066 - val_accuracy: 0.2708 - val_custom_accuracy: 0.2708\n",
      "Epoch 20/100\n",
      "1/1 [==============================] - 0s 17ms/step - loss: 6.1773 - accuracy: 0.2708 - custom_accuracy: 0.2708 - val_loss: 6.2092 - val_accuracy: 0.2708 - val_custom_accuracy: 0.2708\n",
      "Epoch 21/100\n",
      "1/1 [==============================] - 0s 16ms/step - loss: 6.1798 - accuracy: 0.2708 - custom_accuracy: 0.2708 - val_loss: 6.2054 - val_accuracy: 0.2708 - val_custom_accuracy: 0.2708\n",
      "Epoch 22/100\n",
      "1/1 [==============================] - 0s 19ms/step - loss: 6.1779 - accuracy: 0.2708 - custom_accuracy: 0.2708 - val_loss: 6.1957 - val_accuracy: 0.2708 - val_custom_accuracy: 0.2708\n",
      "Epoch 23/100\n",
      "1/1 [==============================] - 0s 17ms/step - loss: 6.1721 - accuracy: 0.2708 - custom_accuracy: 0.2708 - val_loss: 6.1815 - val_accuracy: 0.2708 - val_custom_accuracy: 0.2708\n",
      "Epoch 24/100\n",
      "1/1 [==============================] - 0s 17ms/step - loss: 6.1636 - accuracy: 0.2708 - custom_accuracy: 0.2708 - val_loss: 6.1649 - val_accuracy: 0.2708 - val_custom_accuracy: 0.2708\n",
      "Epoch 25/100\n",
      "1/1 [==============================] - 0s 18ms/step - loss: 6.1539 - accuracy: 0.2708 - custom_accuracy: 0.2708 - val_loss: 6.1479 - val_accuracy: 0.2708 - val_custom_accuracy: 0.2708\n",
      "Epoch 26/100\n",
      "1/1 [==============================] - 0s 17ms/step - loss: 6.1451 - accuracy: 0.2708 - custom_accuracy: 0.2708 - val_loss: 6.1330 - val_accuracy: 0.2708 - val_custom_accuracy: 0.2708\n",
      "Epoch 27/100\n",
      "1/1 [==============================] - 0s 16ms/step - loss: 6.1386 - accuracy: 0.2656 - custom_accuracy: 0.2656 - val_loss: 6.1216 - val_accuracy: 0.2708 - val_custom_accuracy: 0.2708\n",
      "Epoch 28/100\n",
      "1/1 [==============================] - 0s 16ms/step - loss: 6.1354 - accuracy: 0.2656 - custom_accuracy: 0.2656 - val_loss: 6.1140 - val_accuracy: 0.2708 - val_custom_accuracy: 0.2708\n",
      "Epoch 29/100\n",
      "1/1 [==============================] - 0s 16ms/step - loss: 6.1354 - accuracy: 0.2656 - custom_accuracy: 0.2656 - val_loss: 6.1098 - val_accuracy: 0.2708 - val_custom_accuracy: 0.2708\n",
      "Epoch 30/100\n",
      "1/1 [==============================] - 0s 17ms/step - loss: 6.1374 - accuracy: 0.2656 - custom_accuracy: 0.2656 - val_loss: 6.1074 - val_accuracy: 0.2708 - val_custom_accuracy: 0.2708\n",
      "Epoch 31/100\n",
      "1/1 [==============================] - 0s 17ms/step - loss: 6.1396 - accuracy: 0.2656 - custom_accuracy: 0.2656 - val_loss: 6.1055 - val_accuracy: 0.2708 - val_custom_accuracy: 0.2708\n",
      "Epoch 32/100\n",
      "1/1 [==============================] - 0s 16ms/step - loss: 6.1405 - accuracy: 0.2656 - custom_accuracy: 0.2656 - val_loss: 6.1034 - val_accuracy: 0.2708 - val_custom_accuracy: 0.2708\n",
      "Epoch 33/100\n",
      "1/1 [==============================] - 0s 16ms/step - loss: 6.1392 - accuracy: 0.2656 - custom_accuracy: 0.2656 - val_loss: 6.1008 - val_accuracy: 0.2708 - val_custom_accuracy: 0.2708\n",
      "Epoch 34/100\n",
      "1/1 [==============================] - 0s 17ms/step - loss: 6.1360 - accuracy: 0.2656 - custom_accuracy: 0.2656 - val_loss: 6.0982 - val_accuracy: 0.2708 - val_custom_accuracy: 0.2708\n",
      "Epoch 35/100\n",
      "1/1 [==============================] - 0s 16ms/step - loss: 6.1317 - accuracy: 0.2656 - custom_accuracy: 0.2656 - val_loss: 6.0964 - val_accuracy: 0.2708 - val_custom_accuracy: 0.2708\n",
      "Epoch 36/100\n",
      "1/1 [==============================] - 0s 16ms/step - loss: 6.1276 - accuracy: 0.2656 - custom_accuracy: 0.2656 - val_loss: 6.0959 - val_accuracy: 0.2708 - val_custom_accuracy: 0.2708\n",
      "Epoch 37/100\n",
      "1/1 [==============================] - 0s 16ms/step - loss: 6.1244 - accuracy: 0.2656 - custom_accuracy: 0.2656 - val_loss: 6.0966 - val_accuracy: 0.2708 - val_custom_accuracy: 0.2708\n",
      "Epoch 38/100\n",
      "1/1 [==============================] - 0s 16ms/step - loss: 6.1226 - accuracy: 0.2656 - custom_accuracy: 0.2656 - val_loss: 6.0980 - val_accuracy: 0.2708 - val_custom_accuracy: 0.2708\n",
      "Epoch 39/100\n",
      "1/1 [==============================] - 0s 17ms/step - loss: 6.1220 - accuracy: 0.2656 - custom_accuracy: 0.2656 - val_loss: 6.0993 - val_accuracy: 0.2708 - val_custom_accuracy: 0.2708\n",
      "Epoch 40/100\n",
      "1/1 [==============================] - 0s 17ms/step - loss: 6.1222 - accuracy: 0.2656 - custom_accuracy: 0.2656 - val_loss: 6.1001 - val_accuracy: 0.2708 - val_custom_accuracy: 0.2708\n",
      "Epoch 41/100\n",
      "1/1 [==============================] - 0s 16ms/step - loss: 6.1225 - accuracy: 0.2656 - custom_accuracy: 0.2656 - val_loss: 6.0997 - val_accuracy: 0.2708 - val_custom_accuracy: 0.2708\n",
      "Epoch 42/100\n",
      "1/1 [==============================] - 0s 18ms/step - loss: 6.1223 - accuracy: 0.2656 - custom_accuracy: 0.2656 - val_loss: 6.0978 - val_accuracy: 0.2708 - val_custom_accuracy: 0.2708\n"
     ]
    },
    {
     "name": "stdout",
     "output_type": "stream",
     "text": [
      "Epoch 43/100\n",
      "1/1 [==============================] - 0s 18ms/step - loss: 6.1214 - accuracy: 0.2656 - custom_accuracy: 0.2656 - val_loss: 6.0946 - val_accuracy: 0.2708 - val_custom_accuracy: 0.2708\n",
      "Epoch 44/100\n",
      "1/1 [==============================] - 0s 17ms/step - loss: 6.1199 - accuracy: 0.2656 - custom_accuracy: 0.2656 - val_loss: 6.0905 - val_accuracy: 0.2708 - val_custom_accuracy: 0.2708\n",
      "Epoch 45/100\n",
      "1/1 [==============================] - 0s 16ms/step - loss: 6.1180 - accuracy: 0.2656 - custom_accuracy: 0.2656 - val_loss: 6.0860 - val_accuracy: 0.2708 - val_custom_accuracy: 0.2708\n",
      "Epoch 46/100\n",
      "1/1 [==============================] - 0s 18ms/step - loss: 6.1160 - accuracy: 0.2656 - custom_accuracy: 0.2656 - val_loss: 6.0817 - val_accuracy: 0.2708 - val_custom_accuracy: 0.2708\n",
      "Epoch 47/100\n",
      "1/1 [==============================] - 0s 16ms/step - loss: 6.1143 - accuracy: 0.2656 - custom_accuracy: 0.2656 - val_loss: 6.0779 - val_accuracy: 0.2708 - val_custom_accuracy: 0.2708\n",
      "Epoch 48/100\n",
      "1/1 [==============================] - 0s 16ms/step - loss: 6.1130 - accuracy: 0.2656 - custom_accuracy: 0.2656 - val_loss: 6.0748 - val_accuracy: 0.2708 - val_custom_accuracy: 0.2708\n",
      "Epoch 49/100\n",
      "1/1 [==============================] - 0s 16ms/step - loss: 6.1123 - accuracy: 0.2656 - custom_accuracy: 0.2656 - val_loss: 6.0724 - val_accuracy: 0.2708 - val_custom_accuracy: 0.2708\n",
      "Epoch 50/100\n",
      "1/1 [==============================] - 0s 17ms/step - loss: 6.1120 - accuracy: 0.2656 - custom_accuracy: 0.2656 - val_loss: 6.0705 - val_accuracy: 0.2708 - val_custom_accuracy: 0.2708\n",
      "Epoch 51/100\n",
      "1/1 [==============================] - 0s 17ms/step - loss: 6.1116 - accuracy: 0.2656 - custom_accuracy: 0.2656 - val_loss: 6.0689 - val_accuracy: 0.2708 - val_custom_accuracy: 0.2708\n",
      "Epoch 52/100\n",
      "1/1 [==============================] - 0s 17ms/step - loss: 6.1111 - accuracy: 0.2656 - custom_accuracy: 0.2656 - val_loss: 6.0675 - val_accuracy: 0.2708 - val_custom_accuracy: 0.2708\n",
      "Epoch 53/100\n",
      "1/1 [==============================] - 0s 16ms/step - loss: 6.1103 - accuracy: 0.2656 - custom_accuracy: 0.2656 - val_loss: 6.0662 - val_accuracy: 0.2708 - val_custom_accuracy: 0.2708\n",
      "Epoch 54/100\n",
      "1/1 [==============================] - 0s 17ms/step - loss: 6.1091 - accuracy: 0.2656 - custom_accuracy: 0.2656 - val_loss: 6.0650 - val_accuracy: 0.2708 - val_custom_accuracy: 0.2708\n",
      "Epoch 55/100\n",
      "1/1 [==============================] - 0s 16ms/step - loss: 6.1079 - accuracy: 0.2656 - custom_accuracy: 0.2656 - val_loss: 6.0641 - val_accuracy: 0.2708 - val_custom_accuracy: 0.2708\n",
      "Epoch 56/100\n",
      "1/1 [==============================] - 0s 15ms/step - loss: 6.1067 - accuracy: 0.2656 - custom_accuracy: 0.2656 - val_loss: 6.0635 - val_accuracy: 0.2708 - val_custom_accuracy: 0.2708\n",
      "Epoch 57/100\n",
      "1/1 [==============================] - 0s 16ms/step - loss: 6.1056 - accuracy: 0.2656 - custom_accuracy: 0.2656 - val_loss: 6.0631 - val_accuracy: 0.2708 - val_custom_accuracy: 0.2708\n",
      "Epoch 58/100\n",
      "1/1 [==============================] - 0s 15ms/step - loss: 6.1048 - accuracy: 0.2656 - custom_accuracy: 0.2656 - val_loss: 6.0627 - val_accuracy: 0.2708 - val_custom_accuracy: 0.2708\n",
      "Epoch 59/100\n",
      "1/1 [==============================] - 0s 16ms/step - loss: 6.1042 - accuracy: 0.2656 - custom_accuracy: 0.2656 - val_loss: 6.0622 - val_accuracy: 0.2708 - val_custom_accuracy: 0.2708\n",
      "Epoch 60/100\n",
      "1/1 [==============================] - 0s 17ms/step - loss: 6.1037 - accuracy: 0.2656 - custom_accuracy: 0.2656 - val_loss: 6.0614 - val_accuracy: 0.2708 - val_custom_accuracy: 0.2708\n",
      "Epoch 61/100\n",
      "1/1 [==============================] - 0s 16ms/step - loss: 6.1031 - accuracy: 0.2656 - custom_accuracy: 0.2656 - val_loss: 6.0602 - val_accuracy: 0.2708 - val_custom_accuracy: 0.2708\n",
      "Epoch 62/100\n",
      "1/1 [==============================] - 0s 16ms/step - loss: 6.1024 - accuracy: 0.2656 - custom_accuracy: 0.2656 - val_loss: 6.0586 - val_accuracy: 0.2708 - val_custom_accuracy: 0.2708\n",
      "Epoch 63/100\n",
      "1/1 [==============================] - 0s 16ms/step - loss: 6.1016 - accuracy: 0.2656 - custom_accuracy: 0.2656 - val_loss: 6.0567 - val_accuracy: 0.2708 - val_custom_accuracy: 0.2708\n",
      "Epoch 64/100\n",
      "1/1 [==============================] - 0s 16ms/step - loss: 6.1007 - accuracy: 0.2656 - custom_accuracy: 0.2656 - val_loss: 6.0547 - val_accuracy: 0.2708 - val_custom_accuracy: 0.2708\n",
      "Epoch 65/100\n",
      "1/1 [==============================] - 0s 16ms/step - loss: 6.0998 - accuracy: 0.2656 - custom_accuracy: 0.2656 - val_loss: 6.0528 - val_accuracy: 0.2708 - val_custom_accuracy: 0.2708\n",
      "Epoch 66/100\n",
      "1/1 [==============================] - 0s 15ms/step - loss: 6.0991 - accuracy: 0.2656 - custom_accuracy: 0.2656 - val_loss: 6.0510 - val_accuracy: 0.2708 - val_custom_accuracy: 0.2708\n",
      "Epoch 67/100\n",
      "1/1 [==============================] - 0s 15ms/step - loss: 6.0984 - accuracy: 0.2656 - custom_accuracy: 0.2656 - val_loss: 6.0494 - val_accuracy: 0.2708 - val_custom_accuracy: 0.2708\n",
      "Epoch 68/100\n",
      "1/1 [==============================] - 0s 16ms/step - loss: 6.0978 - accuracy: 0.2656 - custom_accuracy: 0.2656 - val_loss: 6.0480 - val_accuracy: 0.2708 - val_custom_accuracy: 0.2708\n",
      "Epoch 69/100\n",
      "1/1 [==============================] - 0s 16ms/step - loss: 6.0972 - accuracy: 0.2656 - custom_accuracy: 0.2656 - val_loss: 6.0468 - val_accuracy: 0.2708 - val_custom_accuracy: 0.2708\n",
      "Epoch 70/100\n",
      "1/1 [==============================] - 0s 17ms/step - loss: 6.0965 - accuracy: 0.2656 - custom_accuracy: 0.2656 - val_loss: 6.0458 - val_accuracy: 0.2708 - val_custom_accuracy: 0.2708\n",
      "Epoch 71/100\n",
      "1/1 [==============================] - 0s 16ms/step - loss: 6.0959 - accuracy: 0.2656 - custom_accuracy: 0.2656 - val_loss: 6.0450 - val_accuracy: 0.2708 - val_custom_accuracy: 0.2708\n",
      "Epoch 72/100\n",
      "1/1 [==============================] - 0s 16ms/step - loss: 6.0952 - accuracy: 0.2656 - custom_accuracy: 0.2656 - val_loss: 6.0442 - val_accuracy: 0.2708 - val_custom_accuracy: 0.2708\n",
      "Epoch 73/100\n",
      "1/1 [==============================] - 0s 16ms/step - loss: 6.0944 - accuracy: 0.2656 - custom_accuracy: 0.2656 - val_loss: 6.0437 - val_accuracy: 0.2708 - val_custom_accuracy: 0.2708\n",
      "Epoch 74/100\n",
      "1/1 [==============================] - 0s 16ms/step - loss: 6.0937 - accuracy: 0.2656 - custom_accuracy: 0.2656 - val_loss: 6.0432 - val_accuracy: 0.2708 - val_custom_accuracy: 0.2708\n",
      "Epoch 75/100\n",
      "1/1 [==============================] - 0s 16ms/step - loss: 6.0930 - accuracy: 0.2656 - custom_accuracy: 0.2656 - val_loss: 6.0427 - val_accuracy: 0.2708 - val_custom_accuracy: 0.2708\n",
      "Epoch 76/100\n",
      "1/1 [==============================] - 0s 16ms/step - loss: 6.0924 - accuracy: 0.2656 - custom_accuracy: 0.2656 - val_loss: 6.0423 - val_accuracy: 0.2708 - val_custom_accuracy: 0.2708\n",
      "Epoch 77/100\n",
      "1/1 [==============================] - 0s 16ms/step - loss: 6.0918 - accuracy: 0.2656 - custom_accuracy: 0.2656 - val_loss: 6.0417 - val_accuracy: 0.2708 - val_custom_accuracy: 0.2708\n",
      "Epoch 78/100\n",
      "1/1 [==============================] - 0s 16ms/step - loss: 6.0912 - accuracy: 0.2656 - custom_accuracy: 0.2656 - val_loss: 6.0410 - val_accuracy: 0.2708 - val_custom_accuracy: 0.2708\n",
      "Epoch 79/100\n",
      "1/1 [==============================] - 0s 16ms/step - loss: 6.0906 - accuracy: 0.2656 - custom_accuracy: 0.2656 - val_loss: 6.0401 - val_accuracy: 0.2708 - val_custom_accuracy: 0.2708\n",
      "Epoch 80/100\n",
      "1/1 [==============================] - 0s 17ms/step - loss: 6.0900 - accuracy: 0.2656 - custom_accuracy: 0.2656 - val_loss: 6.0391 - val_accuracy: 0.2708 - val_custom_accuracy: 0.2708\n",
      "Epoch 81/100\n",
      "1/1 [==============================] - 0s 16ms/step - loss: 6.0894 - accuracy: 0.2656 - custom_accuracy: 0.2656 - val_loss: 6.0380 - val_accuracy: 0.2708 - val_custom_accuracy: 0.2708\n",
      "Epoch 82/100\n",
      "1/1 [==============================] - 0s 16ms/step - loss: 6.0888 - accuracy: 0.2656 - custom_accuracy: 0.2656 - val_loss: 6.0370 - val_accuracy: 0.2708 - val_custom_accuracy: 0.2708\n",
      "Epoch 83/100\n",
      "1/1 [==============================] - 0s 16ms/step - loss: 6.0882 - accuracy: 0.2656 - custom_accuracy: 0.2656 - val_loss: 6.0360 - val_accuracy: 0.2708 - val_custom_accuracy: 0.2708\n",
      "Epoch 84/100\n",
      "1/1 [==============================] - 0s 17ms/step - loss: 6.0876 - accuracy: 0.2656 - custom_accuracy: 0.2656 - val_loss: 6.0351 - val_accuracy: 0.2708 - val_custom_accuracy: 0.2708\n",
      "Epoch 85/100\n",
      "1/1 [==============================] - 0s 18ms/step - loss: 6.0871 - accuracy: 0.2656 - custom_accuracy: 0.2656 - val_loss: 6.0343 - val_accuracy: 0.2708 - val_custom_accuracy: 0.2708\n",
      "Epoch 86/100\n",
      "1/1 [==============================] - 0s 17ms/step - loss: 6.0865 - accuracy: 0.2656 - custom_accuracy: 0.2656 - val_loss: 6.0336 - val_accuracy: 0.2708 - val_custom_accuracy: 0.2708\n",
      "Epoch 87/100\n",
      "1/1 [==============================] - 0s 16ms/step - loss: 6.0860 - accuracy: 0.2656 - custom_accuracy: 0.2656 - val_loss: 6.0331 - val_accuracy: 0.2708 - val_custom_accuracy: 0.2708\n",
      "Epoch 88/100\n",
      "1/1 [==============================] - 0s 18ms/step - loss: 6.0854 - accuracy: 0.2656 - custom_accuracy: 0.2656 - val_loss: 6.0326 - val_accuracy: 0.2708 - val_custom_accuracy: 0.2708\n",
      "Epoch 89/100\n",
      "1/1 [==============================] - 0s 15ms/step - loss: 6.0848 - accuracy: 0.2656 - custom_accuracy: 0.2656 - val_loss: 6.0323 - val_accuracy: 0.2708 - val_custom_accuracy: 0.2708\n",
      "Epoch 90/100\n",
      "1/1 [==============================] - 0s 18ms/step - loss: 6.0843 - accuracy: 0.2656 - custom_accuracy: 0.2656 - val_loss: 6.0319 - val_accuracy: 0.2708 - val_custom_accuracy: 0.2708\n",
      "Epoch 91/100\n",
      "1/1 [==============================] - 0s 17ms/step - loss: 6.0838 - accuracy: 0.2656 - custom_accuracy: 0.2656 - val_loss: 6.0316 - val_accuracy: 0.2708 - val_custom_accuracy: 0.2708\n",
      "Epoch 92/100\n",
      "1/1 [==============================] - 0s 17ms/step - loss: 6.0832 - accuracy: 0.2656 - custom_accuracy: 0.2656 - val_loss: 6.0313 - val_accuracy: 0.2708 - val_custom_accuracy: 0.2708\n",
      "Epoch 93/100\n",
      "1/1 [==============================] - 0s 16ms/step - loss: 6.0827 - accuracy: 0.2656 - custom_accuracy: 0.2656 - val_loss: 6.0308 - val_accuracy: 0.2708 - val_custom_accuracy: 0.2708\n",
      "Epoch 94/100\n",
      "1/1 [==============================] - 0s 16ms/step - loss: 6.0822 - accuracy: 0.2656 - custom_accuracy: 0.2656 - val_loss: 6.0303 - val_accuracy: 0.2708 - val_custom_accuracy: 0.2708\n",
      "Epoch 95/100\n",
      "1/1 [==============================] - 0s 16ms/step - loss: 6.0817 - accuracy: 0.2656 - custom_accuracy: 0.2656 - val_loss: 6.0298 - val_accuracy: 0.2708 - val_custom_accuracy: 0.2708\n",
      "Epoch 96/100\n",
      "1/1 [==============================] - 0s 17ms/step - loss: 6.0812 - accuracy: 0.2656 - custom_accuracy: 0.2656 - val_loss: 6.0293 - val_accuracy: 0.2708 - val_custom_accuracy: 0.2708\n",
      "Epoch 97/100\n",
      "1/1 [==============================] - 0s 17ms/step - loss: 6.0807 - accuracy: 0.2656 - custom_accuracy: 0.2656 - val_loss: 6.0288 - val_accuracy: 0.2708 - val_custom_accuracy: 0.2708\n",
      "Epoch 98/100\n",
      "1/1 [==============================] - 0s 16ms/step - loss: 6.0803 - accuracy: 0.2656 - custom_accuracy: 0.2656 - val_loss: 6.0284 - val_accuracy: 0.2708 - val_custom_accuracy: 0.2708\n",
      "Epoch 99/100\n",
      "1/1 [==============================] - 0s 16ms/step - loss: 6.0798 - accuracy: 0.2656 - custom_accuracy: 0.2656 - val_loss: 6.0280 - val_accuracy: 0.2708 - val_custom_accuracy: 0.2708\n",
      "Epoch 100/100\n",
      "1/1 [==============================] - 0s 16ms/step - loss: 6.0793 - accuracy: 0.2656 - custom_accuracy: 0.2656 - val_loss: 6.0277 - val_accuracy: 0.2708 - val_custom_accuracy: 0.2708\n"
     ]
    }
   ],
   "source": [
    "history = new_model.fit(\n",
    "    x = train_data, \n",
    "    y = train_labels,\n",
    "    batch_size = 1000,\n",
    "    epochs = 100,\n",
    "    validation_data = (val_data, val_labels),\n",
    ")"
   ]
  },
  {
   "cell_type": "code",
   "execution_count": null,
   "metadata": {},
   "outputs": [],
   "source": []
  }
 ],
 "metadata": {
  "kernelspec": {
   "display_name": "Python 3",
   "language": "python",
   "name": "python3"
  },
  "language_info": {
   "codemirror_mode": {
    "name": "ipython",
    "version": 3
   },
   "file_extension": ".py",
   "mimetype": "text/x-python",
   "name": "python",
   "nbconvert_exporter": "python",
   "pygments_lexer": "ipython3",
   "version": "3.7.6"
  }
 },
 "nbformat": 4,
 "nbformat_minor": 4
}
