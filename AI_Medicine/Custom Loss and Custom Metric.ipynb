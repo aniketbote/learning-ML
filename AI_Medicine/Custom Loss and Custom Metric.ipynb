{
 "cells": [
  {
   "cell_type": "code",
   "execution_count": null,
   "metadata": {},
   "outputs": [],
   "source": [
    "import tensorflow as tf\n",
    "import tensorflow_addons as tfa\n",
    "\n",
    "# import numpy as np\n",
    "# from sklearn.metrics import f1_score\n",
    "\n",
    "# np.random.seed(0)"
   ]
  },
  {
   "cell_type": "code",
   "execution_count": null,
   "metadata": {},
   "outputs": [],
   "source": [
    "# def correct(y_true,y_pred, threshold = 0.5):\n",
    "#     y_pred = (y_pred > 0.5).astype('int32')\n",
    "#     res = f1_score(y_true, y_pred, average = 'samples')\n",
    "#     print(res)\n",
    "#     return res"
   ]
  },
  {
   "cell_type": "code",
   "execution_count": null,
   "metadata": {},
   "outputs": [],
   "source": [
    "# Creating Custom Metric\n",
    "class MTCF1Score(tfa.metrics.FBetaScore):\n",
    "    def __init__(self,num_classes, threshold = 0.5, beta = 1.0, name=\"mtc_f1_score\", **kwargs):\n",
    "        super().__init__(num_classes,threshold = threshold, beta = beta, name = name, **kwargs)\n",
    "        self.mtc_f1_score = self.add_weight(name=\"mtc\", initializer=\"zeros\")\n",
    "\n",
    "    def update_state(self, y_true, y_pred, sample_weight=None):\n",
    "        super().update_state(y_true, y_pred, sample_weight=None)\n",
    "\n",
    "    def result(self):\n",
    "        f1_score = super().result()\n",
    "        self.mtc_f1_score.assign(f1_score.shape[0] / tf.reduce_sum(1 / f1_score))\n",
    "        return self.mtc_f1_score\n",
    "\n",
    "    def reset_states(self):\n",
    "        self.mtc_f1_score.assign(0.0)"
   ]
  },
  {
   "cell_type": "code",
   "execution_count": null,
   "metadata": {},
   "outputs": [],
   "source": [
    "# Creating Custom Loss\n",
    "class WeightedBinaryCrossEntropy(tf.keras.losses.Loss):\n",
    "    def __init__(self, wp, wn, epsilon = 1e-7, name=\"weighted_binary_crossentropy\"):\n",
    "        super().__init__(name=name)\n",
    "        self.wp = tf.cast(tf.constant(wp), tf.float32)\n",
    "        self.wn = tf.cast(tf.constant(wn), tf.float32)\n",
    "        self.epsilon = epsilon\n",
    "\n",
    "    def call(self, y_true, y_pred):\n",
    "        y_true = tf.cast(y_true, tf.float32)\n",
    "        y_pred = tf.cast(y_pred, tf.float32)\n",
    "        loss = -tf.reduce_sum(tf.reduce_mean(tf.add(tf.multiply(self.wp ,tf.multiply(y_true, tf.math.log(y_pred + self.epsilon))), tf.multiply(self.wn,tf.multiply(1 - y_true, tf.math.log(1 - y_pred + self.epsilon)))),axis = 0))\n",
    "        return loss"
   ]
  },
  {
   "cell_type": "code",
   "execution_count": null,
   "metadata": {},
   "outputs": [],
   "source": [
    "# # Test 1 (ALL Predictions are zero)\n",
    "# y_true = np.array([[0,0,0],[0,1,0],[1,1,0],[1,1,1],[0,0,1],[0,0,1],[0,0,1],[0,0,0],[0,0,1],[0,1,0]])\n",
    "# y_pred = np.random.uniform(0.0,0.5,(10,3))\n",
    "# correct(y_true, y_pred)\n",
    "\n",
    "# m = MTCF1Score(3)\n",
    "# m.update_state(y_true, y_pred)\n",
    "# print(m.result().numpy())\n",
    "\n",
    "# wbc = WeightedBinaryCrossEntropy([2,3,4],[1,2,3])\n",
    "# print(wbc.call(y_true, y_pred))\n",
    "\n",
    "# bc = tf.keras.losses.BinaryCrossentropy()\n",
    "# print(bc(y_true, y_pred))"
   ]
  },
  {
   "cell_type": "code",
   "execution_count": null,
   "metadata": {},
   "outputs": [],
   "source": [
    "# # Test 2 (ALL predictions 1)\n",
    "# y_true = np.array([[0,0,0],[0,1,0],[1,1,0],[1,1,1],[0,0,1],[0,0,1],[0,0,1],[0,0,0],[0,0,1],[0,1,0]])\n",
    "# y_pred = np.random.uniform(0.55,1.0,(10,3))\n",
    "# correct(y_true, y_pred)\n",
    "\n",
    "# m = MTCF1Score(3)\n",
    "# m.update_state(y_true, y_pred)\n",
    "# print(m.result().numpy())\n",
    "# m.reset_states()\n",
    "# print(m.result().numpy())\n",
    "\n",
    "# wbc = WeightedBinaryCrossEntropy([2,3,4],[1,2,3])\n",
    "# print(wbc.call(y_true, y_pred))\n",
    "\n",
    "# bc = tf.keras.losses.BinaryCrossentropy()\n",
    "# print(bc(y_true, y_pred))"
   ]
  },
  {
   "cell_type": "code",
   "execution_count": null,
   "metadata": {},
   "outputs": [],
   "source": [
    "# # Test of loss Ans = -0.4956\n",
    "# y_true = tf.constant(np.array(\n",
    "#         [[1, 1, 1],\n",
    "#          [1, 1, 0],\n",
    "#          [0, 1, 0],\n",
    "#          [1, 0, 1]]\n",
    "#     ))\n",
    "# # print(\"y_true:\\n\")\n",
    "# # print(y_true)\n",
    "    \n",
    "# w_p = np.array([0.25, 0.25, 0.5])\n",
    "# w_n = np.array([0.75, 0.75, 0.5])\n",
    "# # print(\"\\nw_p:\\n\")\n",
    "# # print(w_p)\n",
    "\n",
    "# # print(\"\\nw_n:\\n\")\n",
    "# # print(w_n)\n",
    "\n",
    "# y_pred_1 = tf.constant(0.7 * np.ones(y_true.shape))\n",
    "# # print(\"\\ny_pred_1:\\n\")\n",
    "# # print(y_pred_1)\n",
    "\n",
    "# y_pred_2 = tf.constant(0.3 * np.ones(y_true.shape))\n",
    "# # print(\"\\ny_pred_2:\\n\")\n",
    "# # print(y_pred_2)\n",
    "\n",
    "\n",
    "\n",
    "# wbc = WeightedBinaryCrossEntropy(w_p,w_n)\n",
    "# print(wbc.call(y_true, y_pred_2))\n"
   ]
  },
  {
   "cell_type": "code",
   "execution_count": null,
   "metadata": {},
   "outputs": [],
   "source": []
  },
  {
   "cell_type": "code",
   "execution_count": null,
   "metadata": {},
   "outputs": [],
   "source": []
  },
  {
   "cell_type": "code",
   "execution_count": null,
   "metadata": {},
   "outputs": [],
   "source": []
  },
  {
   "cell_type": "code",
   "execution_count": null,
   "metadata": {},
   "outputs": [],
   "source": []
  },
  {
   "cell_type": "code",
   "execution_count": null,
   "metadata": {},
   "outputs": [],
   "source": []
  },
  {
   "cell_type": "code",
   "execution_count": null,
   "metadata": {},
   "outputs": [],
   "source": []
  },
  {
   "cell_type": "code",
   "execution_count": null,
   "metadata": {},
   "outputs": [],
   "source": []
  },
  {
   "cell_type": "code",
   "execution_count": null,
   "metadata": {},
   "outputs": [],
   "source": []
  },
  {
   "cell_type": "code",
   "execution_count": null,
   "metadata": {},
   "outputs": [],
   "source": []
  }
 ],
 "metadata": {
  "kernelspec": {
   "display_name": "Python 3",
   "language": "python",
   "name": "python3"
  },
  "language_info": {
   "codemirror_mode": {
    "name": "ipython",
    "version": 3
   },
   "file_extension": ".py",
   "mimetype": "text/x-python",
   "name": "python",
   "nbconvert_exporter": "python",
   "pygments_lexer": "ipython3",
   "version": "3.7.6"
  }
 },
 "nbformat": 4,
 "nbformat_minor": 4
}
