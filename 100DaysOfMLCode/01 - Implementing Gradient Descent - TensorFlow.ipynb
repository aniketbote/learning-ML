{
 "cells": [
  {
   "cell_type": "markdown",
   "metadata": {},
   "source": [
    "## Implementing Linear Regression from scratch using Gradient Descent in TensorFlow"
   ]
  },
  {
   "cell_type": "code",
   "execution_count": 11,
   "metadata": {},
   "outputs": [],
   "source": [
    "import tensorflow as tf\n",
    "import numpy as np\n",
    "import matplotlib.pyplot as plt"
   ]
  },
  {
   "cell_type": "code",
   "execution_count": 22,
   "metadata": {},
   "outputs": [
    {
     "data": {
      "text/plain": [
       "<tf.Tensor: shape=(10000, 4), dtype=float32, numpy=\n",
       "array([[ 8., 24., 67., 87.],\n",
       "       [79., 48., 10., 94.],\n",
       "       [52., 98., 53., 66.],\n",
       "       ...,\n",
       "       [81., 28., 52., 44.],\n",
       "       [ 7.,  7., 10., 20.],\n",
       "       [18., 42., 52.,  1.]], dtype=float32)>"
      ]
     },
     "execution_count": 22,
     "metadata": {},
     "output_type": "execute_result"
    }
   ],
   "source": [
    "# Generating features\n",
    "np.random.seed(100)\n",
    "x = tf.constant(np.random.randint(100, size =(10000,4)), dtype = tf.float32)\n",
    "x"
   ]
  },
  {
   "cell_type": "code",
   "execution_count": 23,
   "metadata": {},
   "outputs": [
    {
     "data": {
      "text/plain": [
       "<tf.Tensor: shape=(10000,), dtype=float32, numpy=array([ 170.,  618.,  333., ...,  -14., -315., -485.], dtype=float32)>"
      ]
     },
     "execution_count": 23,
     "metadata": {},
     "output_type": "execute_result"
    }
   ],
   "source": [
    "# Generating lables with w and b.\n",
    "# w1 = 1  w2 = 3   b = 5\n",
    "w = [2, 3, -3, 9]\n",
    "b = -500\n",
    "\n",
    "# y = w1*x1 + w2*x2 + b \n",
    "m = tf.constant(np.asarray([w]), dtype = tf.float32)\n",
    "b = tf.constant(b, dtype = tf.float32)\n",
    "y = tf.squeeze(tf.matmul(m,x, transpose_b = True) + b)\n",
    "y"
   ]
  },
  {
   "cell_type": "code",
   "execution_count": 24,
   "metadata": {},
   "outputs": [
    {
     "data": {
      "text/plain": [
       "Text(0, 0.5, 'Y')"
      ]
     },
     "execution_count": 24,
     "metadata": {},
     "output_type": "execute_result"
    },
    {
     "data": {
      "image/png": "[encoded data removed]",
      "text/plain": [
       "<Figure size 432x288 with 1 Axes>"
      ]
     },
     "metadata": {
      "needs_background": "light"
     },
     "output_type": "display_data"
    }
   ],
   "source": [
    "# visualizing the data for univariate\n",
    "plt.plot(x, y, marker='o')\n",
    "plt.xlabel(\"X\")\n",
    "plt.ylabel(\"Y\")\n"
   ]
  },
  {
   "cell_type": "code",
   "execution_count": 25,
   "metadata": {},
   "outputs": [],
   "source": [
    "# Computing rmse loss function\n",
    "def compute_mse(y_label, y_pred):\n",
    "    return tf.reduce_mean(((y_label - y_pred)**2))\n"
   ]
  },
  {
   "cell_type": "code",
   "execution_count": 26,
   "metadata": {},
   "outputs": [],
   "source": [
    "# Computing gradients\n",
    "def gradients_mse(X, Y, Y_PREDS):\n",
    "    DW1 = tf.matmul(X, tf.reshape(Y-Y_PREDS, (X.shape[0],1)), transpose_a = True) * (-2/X.shape[0])\n",
    "    DW0 = (-2 / X.shape[0]) * tf.reduce_sum(Y - Y_PREDS)\n",
    "    return DW1, DW0\n",
    "    "
   ]
  },
  {
   "cell_type": "code",
   "execution_count": 27,
   "metadata": {},
   "outputs": [
    {
     "name": "stdout",
     "output_type": "stream",
     "text": [
      "Final Results\n",
      "================================\n",
      "w1 : [[-0.01754967]\n",
      " [ 0.5529849 ]\n",
      " [-4.214487  ]\n",
      " [ 5.40132   ]]\n",
      "w0 : -0.062325406819581985\n",
      "w3 : [[-0.01754948]\n",
      " [ 0.55298513]\n",
      " [-4.214487  ]\n",
      " [ 5.4013195 ]]\n",
      "w4 : -0.06232539936900139\n",
      "Final Loss : 22111.6484375\n"
     ]
    }
   ],
   "source": [
    "EPOCHS = 100\n",
    "w_vector = np.random.uniform(-2,2, size =(x.shape[1],1))\n",
    "\n",
    "w3 = tf.Variable(w_vector, dtype = tf.float32)\n",
    "w4 = tf.Variable(0, dtype = tf.float32)\n",
    "\n",
    "w1 = tf.Variable(w_vector, dtype = tf.float32)\n",
    "w0 = tf.Variable(0, dtype = tf.float32)\n",
    "lr = 1e-5\n",
    "LOSS = []\n",
    "\n",
    "for epoch in range(1,EPOCHS+1):\n",
    "    with tf.GradientTape() as tape:\n",
    "        y_pred = tf.squeeze(tf.matmul(w1,x, transpose_a = True, transpose_b = True) + w0)\n",
    "        loss = compute_mse(y, y_pred)\n",
    "    \n",
    "    gradients = tape.gradient(loss, [w1, w0])\n",
    "    w1.assign_sub(gradients[0] * lr)\n",
    "    w0.assign_sub(gradients[1] * lr)\n",
    "    \n",
    "    \n",
    "    \n",
    "#     Computing with equations for mse loss function\n",
    "    y_pred1 = tf.squeeze(tf.matmul(w3,x, transpose_a = True, transpose_b = True) + w4)\n",
    "    dw3, dw4 = gradients_mse(x, y, y_pred1)\n",
    "    w3.assign_sub(dw3 * lr)\n",
    "    w4.assign_sub(dw4 * lr)\n",
    "    LOSS.append(loss)\n",
    "    \n",
    "    \n",
    "    \n",
    "#     print(\"After Epoch: {} dw1: {} dw0: {}\".format(epoch, gradients[0].numpy(), gradients[1].numpy()))\n",
    "#     print(\"After Epoch: {} dw3: {} dw4: {}\".format(epoch, dw3.numpy(), dw4.numpy()))\n",
    "#     print()\n",
    "#     print(\"After Epoch: {} dw1: {} dw0: {}\".format(epoch, gradients[0].numpy() * lr, gradients[1].numpy() * lr))\n",
    "#     print(\"After Epoch: {} dw3: {} dw4: {}\".format(epoch, dw3.numpy() * lr, dw4.numpy() * lr))\n",
    "#     print()\n",
    "#     print(\"After Epoch: {} w1: {} w0: {}\".format(epoch, w1.numpy(), w0.numpy()))\n",
    "#     print(\"After Epoch: {} w3: {} w4: {}\".format(epoch, w3.numpy(), w4.numpy()))\n",
    "#     print('Loss Tensorflow = {} Loss Equation = {}'.format(loss, compute_mse(y, y_pred1)))\n",
    "#     print('---------------------------------------------------------------\\n')\n",
    "    \n",
    "    \n",
    "    \n",
    "print('Final Results')\n",
    "print('================================')\n",
    "print('w1 : {}'.format(w1.numpy()))\n",
    "print('w0 : {}'.format(w0.numpy()))\n",
    "print('w3 : {}'.format(w3.numpy()))\n",
    "print('w4 : {}'.format(w4.numpy()))\n",
    "print('Final Loss : {}'.format(LOSS[-1]))\n",
    "\n",
    "    \n",
    "\n",
    "\n",
    "    \n",
    "    \n",
    "\n",
    "    \n",
    "\n",
    "    \n",
    "    "
   ]
  },
  {
   "cell_type": "code",
   "execution_count": 28,
   "metadata": {},
   "outputs": [
    {
     "name": "stdout",
     "output_type": "stream",
     "text": [
      "Epoch 1/100\n",
      "313/313 [==============================] - 1s 4ms/step - loss: 27066.7324\n",
      "Epoch 2/100\n",
      "313/313 [==============================] - 1s 4ms/step - loss: 19537.7559\n",
      "Epoch 3/100\n",
      "313/313 [==============================] - 1s 4ms/step - loss: 19490.3047\n",
      "Epoch 4/100\n",
      "313/313 [==============================] - 1s 4ms/step - loss: 19474.4238\n",
      "Epoch 5/100\n",
      "313/313 [==============================] - 1s 4ms/step - loss: 19482.6367\n",
      "Epoch 6/100\n",
      "313/313 [==============================] - 1s 4ms/step - loss: 19463.4434\n",
      "Epoch 7/100\n",
      "313/313 [==============================] - 1s 4ms/step - loss: 19419.6660\n",
      "Epoch 8/100\n",
      "313/313 [==============================] - 1s 3ms/step - loss: 19392.7930\n",
      "Epoch 9/100\n",
      "313/313 [==============================] - 1s 3ms/step - loss: 19406.6797\n",
      "Epoch 10/100\n",
      "313/313 [==============================] - 1s 4ms/step - loss: 19346.1602\n",
      "Epoch 11/100\n",
      "313/313 [==============================] - 1s 3ms/step - loss: 19342.1016\n",
      "Epoch 12/100\n",
      "313/313 [==============================] - 1s 4ms/step - loss: 19335.6543\n",
      "Epoch 13/100\n",
      "313/313 [==============================] - 1s 3ms/step - loss: 19314.4062\n",
      "Epoch 14/100\n",
      "313/313 [==============================] - 1s 3ms/step - loss: 19295.8301\n",
      "Epoch 15/100\n",
      "313/313 [==============================] - 1s 3ms/step - loss: 19282.5059\n",
      "Epoch 16/100\n",
      "313/313 [==============================] - 1s 4ms/step - loss: 19271.3730\n",
      "Epoch 17/100\n",
      "313/313 [==============================] - 1s 4ms/step - loss: 19248.6602\n",
      "Epoch 18/100\n",
      "313/313 [==============================] - 1s 4ms/step - loss: 19205.6172\n",
      "Epoch 19/100\n",
      "313/313 [==============================] - 1s 4ms/step - loss: 19207.0195\n",
      "Epoch 20/100\n",
      "313/313 [==============================] - 1s 4ms/step - loss: 19184.0996\n",
      "Epoch 21/100\n",
      "313/313 [==============================] - 1s 4ms/step - loss: 19173.0762\n",
      "Epoch 22/100\n",
      "313/313 [==============================] - 1s 4ms/step - loss: 19158.7871\n",
      "Epoch 23/100\n",
      "313/313 [==============================] - 1s 4ms/step - loss: 19110.4121\n",
      "Epoch 24/100\n",
      "313/313 [==============================] - 1s 4ms/step - loss: 19116.2578\n",
      "Epoch 25/100\n",
      "313/313 [==============================] - 1s 4ms/step - loss: 19091.2930\n",
      "Epoch 26/100\n",
      "313/313 [==============================] - 1s 4ms/step - loss: 19079.3027\n",
      "Epoch 27/100\n",
      "313/313 [==============================] - 1s 4ms/step - loss: 19051.6953\n",
      "Epoch 28/100\n",
      "313/313 [==============================] - 1s 4ms/step - loss: 19016.0234\n",
      "Epoch 29/100\n",
      "313/313 [==============================] - 1s 4ms/step - loss: 19003.5254\n",
      "Epoch 30/100\n",
      "313/313 [==============================] - 1s 4ms/step - loss: 18986.4043\n",
      "Epoch 31/100\n",
      "313/313 [==============================] - 1s 4ms/step - loss: 19004.1367\n",
      "Epoch 32/100\n",
      "313/313 [==============================] - 1s 4ms/step - loss: 18965.2969\n",
      "Epoch 33/100\n",
      "313/313 [==============================] - 1s 4ms/step - loss: 18928.6953\n",
      "Epoch 34/100\n",
      "313/313 [==============================] - 1s 4ms/step - loss: 18943.0332\n",
      "Epoch 35/100\n",
      "313/313 [==============================] - 1s 4ms/step - loss: 18910.2871\n",
      "Epoch 36/100\n",
      "313/313 [==============================] - 1s 4ms/step - loss: 18895.5156\n",
      "Epoch 37/100\n",
      "313/313 [==============================] - 1s 4ms/step - loss: 18862.7500\n",
      "Epoch 38/100\n",
      "313/313 [==============================] - 1s 4ms/step - loss: 18860.3496\n",
      "Epoch 39/100\n",
      "313/313 [==============================] - 1s 4ms/step - loss: 18846.8965\n",
      "Epoch 40/100\n",
      "313/313 [==============================] - 1s 4ms/step - loss: 18820.5938\n",
      "Epoch 41/100\n",
      "313/313 [==============================] - 1s 4ms/step - loss: 18789.3496\n",
      "Epoch 42/100\n",
      "313/313 [==============================] - 1s 4ms/step - loss: 18807.0566\n",
      "Epoch 43/100\n",
      "313/313 [==============================] - 1s 4ms/step - loss: 18742.2852\n",
      "Epoch 44/100\n",
      "313/313 [==============================] - 1s 4ms/step - loss: 18736.0332\n",
      "Epoch 45/100\n",
      "313/313 [==============================] - 1s 4ms/step - loss: 18724.1641\n",
      "Epoch 46/100\n",
      "313/313 [==============================] - 1s 4ms/step - loss: 18689.5684\n",
      "Epoch 47/100\n",
      "313/313 [==============================] - 1s 4ms/step - loss: 18671.8477\n",
      "Epoch 48/100\n",
      "313/313 [==============================] - 1s 4ms/step - loss: 18658.8457\n",
      "Epoch 49/100\n",
      "313/313 [==============================] - 1s 4ms/step - loss: 18653.8398\n",
      "Epoch 50/100\n",
      "313/313 [==============================] - 1s 4ms/step - loss: 18634.4883\n",
      "Epoch 51/100\n",
      "313/313 [==============================] - 1s 4ms/step - loss: 18596.5391\n",
      "Epoch 52/100\n",
      "313/313 [==============================] - 1s 4ms/step - loss: 18593.3672\n",
      "Epoch 53/100\n",
      "313/313 [==============================] - 1s 4ms/step - loss: 18567.3672\n",
      "Epoch 54/100\n",
      "313/313 [==============================] - 1s 4ms/step - loss: 18564.0430\n",
      "Epoch 55/100\n",
      "313/313 [==============================] - 1s 4ms/step - loss: 18546.5098\n",
      "Epoch 56/100\n",
      "313/313 [==============================] - 1s 4ms/step - loss: 18517.1016\n",
      "Epoch 57/100\n",
      "313/313 [==============================] - 1s 4ms/step - loss: 18507.2969\n",
      "Epoch 58/100\n",
      "313/313 [==============================] - 1s 4ms/step - loss: 18465.2148\n",
      "Epoch 59/100\n",
      "313/313 [==============================] - 1s 4ms/step - loss: 18458.5410\n",
      "Epoch 60/100\n",
      "313/313 [==============================] - 1s 4ms/step - loss: 18453.5781\n",
      "Epoch 61/100\n",
      "313/313 [==============================] - 1s 4ms/step - loss: 18417.8887\n",
      "Epoch 62/100\n",
      "313/313 [==============================] - 1s 4ms/step - loss: 18426.7891\n",
      "Epoch 63/100\n",
      "313/313 [==============================] - 1s 4ms/step - loss: 18390.0332\n",
      "Epoch 64/100\n",
      "313/313 [==============================] - 1s 4ms/step - loss: 18389.1465\n",
      "Epoch 65/100\n",
      "313/313 [==============================] - 1s 4ms/step - loss: 18359.8164\n",
      "Epoch 66/100\n",
      "313/313 [==============================] - 1s 4ms/step - loss: 18350.4688\n",
      "Epoch 67/100\n",
      "313/313 [==============================] - 1s 4ms/step - loss: 18326.0215\n",
      "Epoch 68/100\n",
      "313/313 [==============================] - 1s 4ms/step - loss: 18288.8887\n",
      "Epoch 69/100\n",
      "313/313 [==============================] - 1s 4ms/step - loss: 18282.9668\n",
      "Epoch 70/100\n",
      "313/313 [==============================] - 1s 4ms/step - loss: 18249.6465\n",
      "Epoch 71/100\n",
      "313/313 [==============================] - 1s 4ms/step - loss: 18243.1055\n",
      "Epoch 72/100\n",
      "313/313 [==============================] - 1s 4ms/step - loss: 18233.2871\n",
      "Epoch 73/100\n",
      "313/313 [==============================] - 1s 4ms/step - loss: 18198.8906\n",
      "Epoch 74/100\n",
      "313/313 [==============================] - 1s 4ms/step - loss: 18194.5352\n",
      "Epoch 75/100\n",
      "313/313 [==============================] - 1s 4ms/step - loss: 18171.0410\n",
      "Epoch 76/100\n",
      "313/313 [==============================] - 1s 4ms/step - loss: 18171.5742\n",
      "Epoch 77/100\n",
      "313/313 [==============================] - 1s 4ms/step - loss: 18133.0879\n",
      "Epoch 78/100\n",
      "313/313 [==============================] - 1s 4ms/step - loss: 18117.8574\n",
      "Epoch 79/100\n",
      "313/313 [==============================] - 1s 4ms/step - loss: 18091.0859\n",
      "Epoch 80/100\n",
      "313/313 [==============================] - 1s 4ms/step - loss: 18089.8867\n",
      "Epoch 81/100\n",
      "313/313 [==============================] - 1s 4ms/step - loss: 18053.2617\n",
      "Epoch 82/100\n",
      "313/313 [==============================] - 1s 4ms/step - loss: 18034.0762\n",
      "Epoch 83/100\n",
      "313/313 [==============================] - 1s 4ms/step - loss: 18037.2520\n",
      "Epoch 84/100\n",
      "313/313 [==============================] - 1s 4ms/step - loss: 18029.9434\n",
      "Epoch 85/100\n",
      "313/313 [==============================] - 1s 4ms/step - loss: 18004.3047\n",
      "Epoch 86/100\n",
      "313/313 [==============================] - 1s 4ms/step - loss: 17971.7832\n",
      "Epoch 87/100\n",
      "313/313 [==============================] - 1s 4ms/step - loss: 17958.9160\n",
      "Epoch 88/100\n",
      "313/313 [==============================] - 1s 4ms/step - loss: 17969.8008\n",
      "Epoch 89/100\n",
      "313/313 [==============================] - 1s 4ms/step - loss: 17938.6953\n",
      "Epoch 90/100\n",
      "313/313 [==============================] - 1s 4ms/step - loss: 17900.4375\n",
      "Epoch 91/100\n",
      "313/313 [==============================] - 1s 4ms/step - loss: 17879.5762\n",
      "Epoch 92/100\n",
      "313/313 [==============================] - 1s 4ms/step - loss: 17876.3164\n",
      "Epoch 93/100\n",
      "313/313 [==============================] - 1s 4ms/step - loss: 17871.1465\n",
      "Epoch 94/100\n",
      "313/313 [==============================] - 1s 4ms/step - loss: 17853.4551\n",
      "Epoch 95/100\n"
     ]
    },
    {
     "name": "stdout",
     "output_type": "stream",
     "text": [
      "313/313 [==============================] - 1s 4ms/step - loss: 17833.3496\n",
      "Epoch 96/100\n",
      "313/313 [==============================] - 1s 4ms/step - loss: 17799.0000\n",
      "Epoch 97/100\n",
      "313/313 [==============================] - 1s 4ms/step - loss: 17808.1094\n",
      "Epoch 98/100\n",
      "313/313 [==============================] - 1s 4ms/step - loss: 17772.1523\n",
      "Epoch 99/100\n",
      "313/313 [==============================] - 1s 4ms/step - loss: 17745.3301\n",
      "Epoch 100/100\n",
      "313/313 [==============================] - 1s 4ms/step - loss: 17737.4238\n"
     ]
    },
    {
     "data": {
      "text/plain": [
       "<tensorflow.python.keras.callbacks.History at 0x29e42ffd6c8>"
      ]
     },
     "execution_count": 28,
     "metadata": {},
     "output_type": "execute_result"
    }
   ],
   "source": [
    "# using keras to get same results\n",
    "def create_model():\n",
    "    model = tf.keras.Sequential()\n",
    "    model.add(tf.keras.layers.Dense(units = 1,  name = 'd1', input_shape = (x.shape[1],)))\n",
    "    \n",
    "    model.compile(optimizer=tf.keras.optimizers.SGD(lr=1e-5),\n",
    "                loss=\"mse\")\n",
    "    \n",
    "    return model\n",
    "model = create_model()\n",
    "\n",
    "d1 = model.get_layer('d1')\n",
    "d1_weights = [tf.constant(w_vector, dtype = tf.float32), tf.constant(np.array([0]), dtype = tf.float32)]\n",
    "d1.set_weights(d1_weights)\n",
    "d1.weights\n",
    "\n",
    "model.fit(x, y, epochs = 100)\n"
   ]
  },
  {
   "cell_type": "code",
   "execution_count": 22,
   "metadata": {},
   "outputs": [
    {
     "data": {
      "text/plain": [
       "[<tf.Variable 'd1_1/kernel:0' shape=(4, 1) dtype=float32, numpy=\n",
       " array([[-0.75543296],\n",
       "        [ 0.5384736 ],\n",
       "        [-6.0046735 ],\n",
       "        [ 6.9203186 ]], dtype=float32)>,\n",
       " <tf.Variable 'd1_1/bias:0' shape=(1,) dtype=float32, numpy=array([-0.08318206], dtype=float32)>]"
      ]
     },
     "execution_count": 22,
     "metadata": {},
     "output_type": "execute_result"
    }
   ],
   "source": [
    "d1 = model.get_layer('d1')\n",
    "d1.weights"
   ]
  },
  {
   "cell_type": "code",
   "execution_count": 23,
   "metadata": {},
   "outputs": [
    {
     "data": {
      "text/plain": [
       "Text(0, 0.5, 'Loss')"
      ]
     },
     "execution_count": 23,
     "metadata": {},
     "output_type": "execute_result"
    },
    {
     "data": {
      "image/png": "[encoded data removed]",
      "text/plain": [
       "<Figure size 432x288 with 1 Axes>"
      ]
     },
     "metadata": {
      "needs_background": "light"
     },
     "output_type": "display_data"
    }
   ],
   "source": [
    "plt.plot(range(1,len(LOSS)+1), LOSS)\n",
    "plt.xlabel('Epochs')\n",
    "plt.ylabel('Loss')"
   ]
  },
  {
   "cell_type": "code",
   "execution_count": 24,
   "metadata": {},
   "outputs": [
    {
     "data": {
      "text/plain": [
       "<tf.Tensor: shape=(10,), dtype=float32, numpy=\n",
       "array([ 206.55135,  556.5476 ,  151.89806, -104.64823, -216.65224,\n",
       "       -459.36536, -197.55054,  640.5198 ,  288.4869 , -269.9884 ],\n",
       "      dtype=float32)>"
      ]
     },
     "execution_count": 24,
     "metadata": {},
     "output_type": "execute_result"
    }
   ],
   "source": [
    "def predict(x, w1, w0):\n",
    "    return tf.squeeze(tf.matmul(w1,x, transpose_a = True, transpose_b = True) + w0)\n",
    "\n",
    "predict(x,w1, w0)\n",
    "\n",
    "    "
   ]
  },
  {
   "cell_type": "code",
   "execution_count": null,
   "metadata": {},
   "outputs": [],
   "source": []
  },
  {
   "cell_type": "code",
   "execution_count": null,
   "metadata": {},
   "outputs": [],
   "source": []
  },
  {
   "cell_type": "code",
   "execution_count": null,
   "metadata": {},
   "outputs": [],
   "source": []
  },
  {
   "cell_type": "code",
   "execution_count": null,
   "metadata": {},
   "outputs": [],
   "source": []
  },
  {
   "cell_type": "code",
   "execution_count": null,
   "metadata": {},
   "outputs": [],
   "source": []
  },
  {
   "cell_type": "code",
   "execution_count": null,
   "metadata": {},
   "outputs": [],
   "source": []
  },
  {
   "cell_type": "code",
   "execution_count": null,
   "metadata": {},
   "outputs": [],
   "source": []
  },
  {
   "cell_type": "code",
   "execution_count": null,
   "metadata": {},
   "outputs": [],
   "source": []
  },
  {
   "cell_type": "code",
   "execution_count": null,
   "metadata": {},
   "outputs": [],
   "source": []
  },
  {
   "cell_type": "code",
   "execution_count": null,
   "metadata": {},
   "outputs": [],
   "source": []
  }
 ],
 "metadata": {
  "kernelspec": {
   "display_name": "Python 3",
   "language": "python",
   "name": "python3"
  },
  "language_info": {
   "codemirror_mode": {
    "name": "ipython",
    "version": 3
   },
   "file_extension": ".py",
   "mimetype": "text/x-python",
   "name": "python",
   "nbconvert_exporter": "python",
   "pygments_lexer": "ipython3",
   "version": "3.7.6"
  }
 },
 "nbformat": 4,
 "nbformat_minor": 4
}
