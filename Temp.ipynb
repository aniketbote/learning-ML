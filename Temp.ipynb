{
 "cells": [
  {
   "cell_type": "code",
   "execution_count": null,
   "metadata": {},
   "outputs": [],
   "source": [
    "import tensorflow as tf\n",
    "import numpy as np\n",
    "import pandas as pd\n",
    "import sys\n",
    "from math import sin\n",
    "from sklearn.metrics import classification_report"
   ]
  },
  {
   "cell_type": "code",
   "execution_count": null,
   "metadata": {},
   "outputs": [],
   "source": [
    "# %load_ext tensorboard\n",
    "! rmdir /Q /S logs\n",
    "# ! forfiles /P \"ModelAcc\" /M * /C \"cmd /c if @isdir==FALSE del @file\"\n",
    "# ! forfiles /P \"ModelLoss\" /M * /C \"cmd /c if @isdir==FALSE del @file\""
   ]
  },
  {
   "cell_type": "code",
   "execution_count": null,
   "metadata": {},
   "outputs": [],
   "source": [
    "# Generating features\n",
    "# np.random.seed(100)\n",
    "# x1 = tf.constant(np.random.randint(50, size =(100,13)), dtype = tf.float32)\n",
    "# y1 = tf.constant(np.random.randint(2, size =(100,)), dtype = tf.int32)\n",
    "\n",
    "# x2 = tf.constant(np.random.randint(50, size =(100,6)), dtype = tf.float32)\n",
    "# y2 = tf.constant(np.random.randint(2, size =(100,)), dtype = tf.int32)\n",
    "\n",
    "# # from csv dataframe\n",
    "train_df = pd.read_csv(\"data/heart.csv\")\n",
    "train_labels = train_df.pop('target')\n",
    "# dataset = tf.data.Dataset.from_tensor_slices((train_df.values,train_labels))\n",
    "# dataset = dataset.shuffle(len(train_df)).batch(10)\n",
    "train_df"
   ]
  },
  {
   "cell_type": "code",
   "execution_count": null,
   "metadata": {},
   "outputs": [],
   "source": [
    "train_df['age','sex']"
   ]
  },
  {
   "cell_type": "code",
   "execution_count": null,
   "metadata": {},
   "outputs": [],
   "source": [
    "def show_batch(dataset):\n",
    "    for batch, label in dataset.take(1):\n",
    "        print(\"{:20s}: {}\".format('labels',label))\n",
    "        print(batch)\n",
    "            \n",
    "show_batch(dataset)"
   ]
  },
  {
   "cell_type": "code",
   "execution_count": null,
   "metadata": {},
   "outputs": [],
   "source": [
    "def create_model1():\n",
    "    model = tf.keras.Sequential()\n",
    "    model.add(tf.keras.Input(shape=(13,)))\n",
    "    model.add(tf.keras.layers.Dense(units = 6, activation='relu', name = 'd1'))\n",
    "    model.add(tf.keras.layers.Dense(units = 2, activation='softmax', name = 'd2'))\n",
    "    return model\n",
    "def create_model2():\n",
    "    model = tf.keras.Sequential()\n",
    "    model.add(tf.keras.Input(shape=(13,)))\n",
    "    model.add(tf.keras.layers.Dense(6, activation='relu'))\n",
    "    model.add(tf.keras.layers.Dense(2, activation='softmax'))\n",
    "    model.compile(loss='sparse_categorical_crossentropy',\n",
    "                optimizer='adam',\n",
    "                metrics=['accuracy'])\n",
    "    return model\n",
    "\n",
    "def create_model3():\n",
    "    input1 = tf.keras.Input(shape=(13,), name = 'I1')\n",
    "    input2 = tf.keras.Input(shape=(6,), name = 'I2')\n",
    "    \n",
    "    hidden1 = tf.keras.layers.Dense(units = 4, activation='relu')(input1)\n",
    "    hidden2 = tf.keras.layers.Dense(units = 4, activation='relu')(input2)\n",
    "    hidden3 = tf.keras.layers.Dense(units = 3, activation='relu')(hidden1)\n",
    "    hidden4 = tf.keras.layers.Dense(units = 3, activation='relu')(hidden2)\n",
    "    output1 = tf.keras.layers.Dense(units = 2, activation='softmax', name ='O1')(hidden3)\n",
    "    output2 = tf.keras.layers.Dense(units = 2, activation='softmax', name = 'O2')(hidden4)\n",
    "    \n",
    "    model = tf.keras.models.Model(inputs = [input1,input2], outputs = [output1,output2])\n",
    "    \n",
    "    model.compile(optimizer='adam',\n",
    "                  loss='sparse_categorical_crossentropy',\n",
    "                  metrics=['accuracy'])\n",
    "    return model\n",
    "model = create_model1()\n",
    "\n",
    "tf.keras.utils.plot_model(model, 'my_first_model.png', show_shapes=True)"
   ]
  },
  {
   "cell_type": "code",
   "execution_count": null,
   "metadata": {},
   "outputs": [],
   "source": [
    "# history = model.fit(\n",
    "#     x = {'I1':x1, 'I2':x2}, \n",
    "#     y = {'O1':y1, 'O2': y2},\n",
    "#     batch_size = 1,\n",
    "#     epochs = 1,\n",
    "#     verbose = 1,\n",
    "#     callbacks = None,\n",
    "# #     validation_data = [(val_data,new_val_data),(val_labels, new_val_labels)]\n",
    "# )\n",
    "\n",
    "model.fit(x = x1, y = y1, epochs = 10)"
   ]
  },
  {
   "cell_type": "code",
   "execution_count": null,
   "metadata": {},
   "outputs": [],
   "source": [
    "l = tf.keras.layers.Conv2d()"
   ]
  },
  {
   "cell_type": "code",
   "execution_count": null,
   "metadata": {},
   "outputs": [],
   "source": [
    "x1 = tf.constant(np.array(range(1,224*224*3 + 1)), shape = (1,224, 224, 3), dtype = tf.float32)\n",
    "x1"
   ]
  },
  {
   "cell_type": "code",
   "execution_count": null,
   "metadata": {},
   "outputs": [],
   "source": [
    "layer = tf.keras.layers.Conv2D(1, 3, activation='relu', input_shape=(1,3, 3, 3))\n",
    "y = layer(x1)\n",
    "y.shape\n"
   ]
  },
  {
   "cell_type": "code",
   "execution_count": null,
   "metadata": {},
   "outputs": [],
   "source": [
    "layer.weights"
   ]
  },
  {
   "cell_type": "code",
   "execution_count": 1,
   "metadata": {},
   "outputs": [],
   "source": [
    "import tensorflow as tf\n",
    "import numpy as np\n",
    "np.random.seed(100)"
   ]
  },
  {
   "cell_type": "code",
   "execution_count": 2,
   "metadata": {},
   "outputs": [],
   "source": [
    "# First training data\n",
    "x1_train = np.random.uniform(1, 10, (240, 13))\n",
    "y1_train = np.random.randint(0, 2, (240,))\n",
    "x1_val = np.random.uniform(1, 10, (50, 13))\n",
    "y1_val = np.random.randint(0, 2, (50,))\n",
    "\n",
    "# Second training data\n",
    "x2_train = np.random.uniform(1, 10, (240, 6))\n",
    "y2_train = np.random.uniform(0, 1, (240,))\n",
    "x2_val = np.random.uniform(1, 10, (50, 6))\n",
    "y2_val = np.random.uniform(0, 1, (50,))\n"
   ]
  },
  {
   "cell_type": "code",
   "execution_count": 3,
   "metadata": {},
   "outputs": [
    {
     "data": {
      "image/png": "[encoded data removed]",
      "text/plain": [
       "<IPython.core.display.Image object>"
      ]
     },
     "execution_count": 3,
     "metadata": {},
     "output_type": "execute_result"
    }
   ],
   "source": [
    "def create_model3():\n",
    "    input1 = tf.keras.Input(shape=(13,), name = 'I1')\n",
    "    input2 = tf.keras.Input(shape=(6,), name = 'I2')\n",
    "    \n",
    "    hidden1 = tf.keras.layers.Dense(units = 4, activation='relu')(input1)\n",
    "    hidden2 = tf.keras.layers.Dense(units = 4, activation='relu')(input2)\n",
    "    merge = tf.keras.layers.concatenate([hidden1, hidden2])\n",
    "    hidden3 = tf.keras.layers.Dense(units = 3, activation='relu')(merge)\n",
    "    output1 = tf.keras.layers.Dense(units = 2, activation='softmax', name ='O1')(hidden3)\n",
    "    output2 = tf.keras.layers.Dense(units = 1, activation='linear', name = 'O2')(hidden3)\n",
    "    \n",
    "    model = tf.keras.models.Model(inputs = [input1,input2], outputs = [output1,output2])\n",
    "    \n",
    "    model.compile(optimizer='adam',\n",
    "                  loss={'O1':'sparse_categorical_crossentropy','O2':'mse'},\n",
    "                  metrics={'O1':['accuracy'],'O2':['mae']},\n",
    "                  loss_weights=[1.0, 0.5])\n",
    "    return model\n",
    "\n",
    "\n",
    "\n",
    "model = create_model3()\n",
    "tf.keras.utils.plot_model(model, 'my_first_model.png', show_shapes=True)"
   ]
  },
  {
   "cell_type": "code",
   "execution_count": 9,
   "metadata": {},
   "outputs": [
    {
     "name": "stdout",
     "output_type": "stream",
     "text": [
      "Epoch 1/10\n",
      "1/1 [==============================] - 0s 101ms/step - loss: 0.9860 - O1_loss: 0.6951 - O2_loss: 0.5818 - O1_accuracy: 0.5042 - O2_mae: 0.5739 - val_loss: 1.1188 - val_O1_loss: 0.6907 - val_O2_loss: 0.8562 - val_O1_accuracy: 0.6200 - val_O2_mae: 0.6369\n",
      "Epoch 2/10\n",
      "1/1 [==============================] - 0s 52ms/step - loss: 0.9802 - O1_loss: 0.6950 - O2_loss: 0.5703 - O1_accuracy: 0.5042 - O2_mae: 0.5703 - val_loss: 1.1118 - val_O1_loss: 0.6907 - val_O2_loss: 0.8422 - val_O1_accuracy: 0.6200 - val_O2_mae: 0.6344\n",
      "Epoch 3/10\n",
      "1/1 [==============================] - 0s 45ms/step - loss: 0.9747 - O1_loss: 0.6950 - O2_loss: 0.5594 - O1_accuracy: 0.5042 - O2_mae: 0.5668 - val_loss: 1.1051 - val_O1_loss: 0.6907 - val_O2_loss: 0.8288 - val_O1_accuracy: 0.6200 - val_O2_mae: 0.6320\n",
      "Epoch 4/10\n",
      "1/1 [==============================] - 0s 36ms/step - loss: 0.9694 - O1_loss: 0.6949 - O2_loss: 0.5489 - O1_accuracy: 0.5000 - O2_mae: 0.5635 - val_loss: 1.0986 - val_O1_loss: 0.6907 - val_O2_loss: 0.8159 - val_O1_accuracy: 0.6200 - val_O2_mae: 0.6295\n",
      "Epoch 5/10\n",
      "1/1 [==============================] - 0s 40ms/step - loss: 0.9643 - O1_loss: 0.6948 - O2_loss: 0.5389 - O1_accuracy: 0.5000 - O2_mae: 0.5603 - val_loss: 1.0924 - val_O1_loss: 0.6907 - val_O2_loss: 0.8034 - val_O1_accuracy: 0.6200 - val_O2_mae: 0.6271\n",
      "Epoch 6/10\n",
      "1/1 [==============================] - 0s 54ms/step - loss: 0.9593 - O1_loss: 0.6948 - O2_loss: 0.5292 - O1_accuracy: 0.5000 - O2_mae: 0.5571 - val_loss: 1.0864 - val_O1_loss: 0.6906 - val_O2_loss: 0.7914 - val_O1_accuracy: 0.6200 - val_O2_mae: 0.6246\n",
      "Epoch 7/10\n",
      "1/1 [==============================] - 0s 49ms/step - loss: 0.9547 - O1_loss: 0.6947 - O2_loss: 0.5200 - O1_accuracy: 0.5000 - O2_mae: 0.5539 - val_loss: 1.0805 - val_O1_loss: 0.6906 - val_O2_loss: 0.7798 - val_O1_accuracy: 0.6200 - val_O2_mae: 0.6219\n",
      "Epoch 8/10\n",
      "1/1 [==============================] - 0s 56ms/step - loss: 0.9503 - O1_loss: 0.6946 - O2_loss: 0.5113 - O1_accuracy: 0.5042 - O2_mae: 0.5509 - val_loss: 1.0748 - val_O1_loss: 0.6906 - val_O2_loss: 0.7686 - val_O1_accuracy: 0.6200 - val_O2_mae: 0.6192\n",
      "Epoch 9/10\n",
      "1/1 [==============================] - 0s 50ms/step - loss: 0.9460 - O1_loss: 0.6945 - O2_loss: 0.5030 - O1_accuracy: 0.5042 - O2_mae: 0.5478 - val_loss: 1.0694 - val_O1_loss: 0.6906 - val_O2_loss: 0.7577 - val_O1_accuracy: 0.6200 - val_O2_mae: 0.6166\n",
      "Epoch 10/10\n",
      "1/1 [==============================] - 0s 46ms/step - loss: 0.9420 - O1_loss: 0.6944 - O2_loss: 0.4951 - O1_accuracy: 0.5000 - O2_mae: 0.5449 - val_loss: 1.0642 - val_O1_loss: 0.6906 - val_O2_loss: 0.7473 - val_O1_accuracy: 0.6200 - val_O2_mae: 0.6139\n"
     ]
    }
   ],
   "source": [
    "history = model.fit(\n",
    "    x = {'I1':x1_train, 'I2':x2_train}, \n",
    "    y = {'O1':y1_train, 'O2': y2_train},\n",
    "    batch_size = 1000,\n",
    "    epochs = 10,\n",
    "    validation_data = ([x1_val,x2_val],[y1_val, y2_val])\n",
    ")"
   ]
  },
  {
   "cell_type": "code",
   "execution_count": null,
   "metadata": {
    "scrolled": true
   },
   "outputs": [],
   "source": []
  },
  {
   "cell_type": "code",
   "execution_count": null,
   "metadata": {},
   "outputs": [],
   "source": []
  },
  {
   "cell_type": "code",
   "execution_count": null,
   "metadata": {},
   "outputs": [],
   "source": []
  },
  {
   "cell_type": "code",
   "execution_count": null,
   "metadata": {},
   "outputs": [],
   "source": []
  },
  {
   "cell_type": "code",
   "execution_count": null,
   "metadata": {},
   "outputs": [],
   "source": []
  },
  {
   "cell_type": "code",
   "execution_count": null,
   "metadata": {},
   "outputs": [],
   "source": []
  },
  {
   "cell_type": "code",
   "execution_count": null,
   "metadata": {},
   "outputs": [],
   "source": []
  },
  {
   "cell_type": "code",
   "execution_count": null,
   "metadata": {},
   "outputs": [],
   "source": []
  },
  {
   "cell_type": "code",
   "execution_count": null,
   "metadata": {},
   "outputs": [],
   "source": []
  },
  {
   "cell_type": "code",
   "execution_count": null,
   "metadata": {},
   "outputs": [],
   "source": []
  },
  {
   "cell_type": "code",
   "execution_count": null,
   "metadata": {},
   "outputs": [],
   "source": []
  },
  {
   "cell_type": "code",
   "execution_count": null,
   "metadata": {},
   "outputs": [],
   "source": []
  },
  {
   "cell_type": "code",
   "execution_count": null,
   "metadata": {},
   "outputs": [],
   "source": []
  },
  {
   "cell_type": "code",
   "execution_count": null,
   "metadata": {},
   "outputs": [],
   "source": []
  },
  {
   "cell_type": "code",
   "execution_count": null,
   "metadata": {},
   "outputs": [],
   "source": []
  },
  {
   "cell_type": "code",
   "execution_count": null,
   "metadata": {},
   "outputs": [],
   "source": []
  },
  {
   "cell_type": "code",
   "execution_count": null,
   "metadata": {},
   "outputs": [],
   "source": []
  },
  {
   "cell_type": "code",
   "execution_count": null,
   "metadata": {},
   "outputs": [],
   "source": []
  },
  {
   "cell_type": "code",
   "execution_count": null,
   "metadata": {},
   "outputs": [],
   "source": []
  },
  {
   "cell_type": "code",
   "execution_count": null,
   "metadata": {},
   "outputs": [],
   "source": []
  },
  {
   "cell_type": "code",
   "execution_count": null,
   "metadata": {},
   "outputs": [],
   "source": []
  },
  {
   "cell_type": "code",
   "execution_count": null,
   "metadata": {},
   "outputs": [],
   "source": []
  },
  {
   "cell_type": "code",
   "execution_count": null,
   "metadata": {},
   "outputs": [],
   "source": []
  },
  {
   "cell_type": "code",
   "execution_count": null,
   "metadata": {},
   "outputs": [],
   "source": []
  }
 ],
 "metadata": {
  "kernelspec": {
   "display_name": "Python 3",
   "language": "python",
   "name": "python3"
  },
  "language_info": {
   "codemirror_mode": {
    "name": "ipython",
    "version": 3
   },
   "file_extension": ".py",
   "mimetype": "text/x-python",
   "name": "python",
   "nbconvert_exporter": "python",
   "pygments_lexer": "ipython3",
   "version": "3.7.6"
  }
 },
 "nbformat": 4,
 "nbformat_minor": 4
}
