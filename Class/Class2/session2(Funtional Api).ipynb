{
 "cells": [
  {
   "cell_type": "code",
   "execution_count": null,
   "metadata": {},
   "outputs": [],
   "source": [
    "import pandas as pd\n",
    "import tensorflow as tf\n",
    "import numpy as np\n",
    "import seaborn as sns\n",
    "import matplotlib.pyplot as plt\n",
    "from sklearn.model_selection import train_test_split\n",
    "from sklearn.preprocessing import LabelEncoder\n",
    "from pprint import pprint"
   ]
  },
  {
   "cell_type": "code",
   "execution_count": null,
   "metadata": {},
   "outputs": [],
   "source": [
    "train_df = pd.read_csv(\"data/train.csv\")\n",
    "test_df = pd.read_csv(\"data/test.csv\")\n",
    "train_df"
   ]
  },
  {
   "cell_type": "code",
   "execution_count": null,
   "metadata": {},
   "outputs": [],
   "source": [
    "labelencoder = LabelEncoder()\n",
    "train_df['thal'] = labelencoder.fit_transform(train_df['thal'])\n",
    "test_df['thal'] = labelencoder.transform(test_df['thal'])\n",
    "train_df"
   ]
  },
  {
   "cell_type": "code",
   "execution_count": null,
   "metadata": {},
   "outputs": [],
   "source": []
  },
  {
   "cell_type": "code",
   "execution_count": null,
   "metadata": {},
   "outputs": [],
   "source": [
    "train_data, val_data = train_test_split(train_df, test_size=0.2, random_state=133, shuffle= True)\n",
    "train_labels = train_data.pop('target')\n",
    "val_labels = val_data.pop('target')\n",
    "test_labels = test_df.pop('target')"
   ]
  },
  {
   "cell_type": "code",
   "execution_count": null,
   "metadata": {},
   "outputs": [],
   "source": [
    "# train_data.loc[:,['age','trestbps']].describe()\n",
    "train_data.describe()"
   ]
  },
  {
   "cell_type": "code",
   "execution_count": null,
   "metadata": {},
   "outputs": [],
   "source": []
  },
  {
   "cell_type": "code",
   "execution_count": null,
   "metadata": {},
   "outputs": [],
   "source": [
    "def create_model():\n",
    "    input1 = tf.keras.Input(shape=(13,))\n",
    "    hidden1 = tf.keras.layers.Dense(units = 12, activation='relu')(input1)\n",
    "    hidden2 = tf.keras.layers.Dense(units = 6, activation='relu')(hidden1)\n",
    "    output1 = tf.keras.layers.Dense(units = 2, activation='softmax')(hidden2)\n",
    "    \n",
    "    model = tf.keras.models.Model(inputs = input1, outputs = output1, name= \"functional1\")\n",
    "    \n",
    "    \n",
    "    model.compile(optimizer='adam',\n",
    "                  loss='sparse_categorical_crossentropy',\n",
    "                  metrics=['accuracy'])\n",
    "    return model\n",
    "\n",
    "def create_model1():\n",
    "    model = tf.keras.Sequential([\n",
    "    tf.keras.Input(shape = (13,)),\n",
    "    tf.keras.layers.Dense(units = 12, activation='relu'),\n",
    "    tf.keras.layers.Dense(units = 6, activation='relu'),\n",
    "    tf.keras.layers.Dense(units = 2, activation='softmax')\n",
    "    ])\n",
    "    model.compile(optimizer='adam',\n",
    "                  loss='sparse_categorical_crossentropy',\n",
    "                  metrics=['accuracy'])\n",
    "    return model\n",
    "\n",
    "def create_model2():\n",
    "    input1 = tf.keras.Input(shape=(13,))\n",
    "    hidden1 = tf.keras.layers.Dense(units = 6, activation='relu')(input1)\n",
    "    hidden2 = tf.keras.layers.Dense(units = 6, activation='relu')(input1)\n",
    "    merge = tf.keras.layers.concatenate([hidden1,hidden2])\n",
    "    hidden3 = tf.keras.layers.Dense(units = 3, activation='relu')(merge)\n",
    "    output1 = tf.keras.layers.Dense(units = 2, activation='softmax')(hidden3)\n",
    "    \n",
    "    model = tf.keras.models.Model(inputs = input1, outputs = output1)\n",
    "    \n",
    "\n",
    "    model.compile(optimizer='adam',\n",
    "                  loss='sparse_categorical_crossentropy',\n",
    "                  metrics=['accuracy'])\n",
    "    return model\n",
    "\n",
    "def create_model3():\n",
    "    input1 = tf.keras.Input(shape=(13,), name = 'I1')\n",
    "    input2 = tf.keras.Input(shape=(6,), name = 'I2')\n",
    "    \n",
    "    hidden1 = tf.keras.layers.Dense(units = 4, activation='relu')(input1)\n",
    "    hidden2 = tf.keras.layers.Dense(units = 4, activation='relu')(input2)\n",
    "    merge = tf.keras.layers.concatenate([hidden1, hidden2])\n",
    "    hidden3 = tf.keras.layers.Dense(units = 3, activation='relu')(merge)\n",
    "    output1 = tf.keras.layers.Dense(units = 2, activation='softmax', name ='O1')(hidden3)\n",
    "    output2 = tf.keras.layers.Dense(units = 2, activation='softmax', name = 'O2')(hidden3)\n",
    "    \n",
    "    model = tf.keras.models.Model(inputs = [input1,input2], outputs = [output1,output2])\n",
    "    \n",
    "    model.compile(optimizer='adam',\n",
    "                  loss={'O1':'sparse_categorical_crossentropy', 'O2':'mse'},\n",
    "                  metrics={'O1':'accuracy', 'O2':['mse',tf.keras.metrics.RootMeanSquaredError()]})\n",
    "    return model\n",
    "\n",
    "\n",
    "\n",
    "model = create_model3()\n",
    "tf.keras.utils.plot_model(model, 'my_first_model.png', show_shapes=True)\n",
    "# model.summary()"
   ]
  },
  {
   "cell_type": "code",
   "execution_count": null,
   "metadata": {},
   "outputs": [],
   "source": [
    "new_train_data = train_data.loc[:,['age', 'sex', 'cp', 'trestbps', 'chol', 'fbs']]\n",
    "new_val_data = val_data.loc[:,['age', 'sex', 'cp', 'trestbps', 'chol', 'fbs']]\n",
    "new_val_labels = val_data['thalach']\n",
    "new_train_labels = train_data['thalach']\n",
    "new_train_data"
   ]
  },
  {
   "cell_type": "code",
   "execution_count": null,
   "metadata": {},
   "outputs": [],
   "source": [
    "layer1 = model.get_layer(index = 2)\n",
    "sns.heatmap(layer1.weights[0].numpy())"
   ]
  },
  {
   "cell_type": "code",
   "execution_count": null,
   "metadata": {},
   "outputs": [],
   "source": [
    "model.save_weights(\"initials.h5\")"
   ]
  },
  {
   "cell_type": "code",
   "execution_count": null,
   "metadata": {},
   "outputs": [],
   "source": [
    "model.load_weights(\"initials.h5\")\n",
    "history = model.fit(\n",
    "    x = train_data, \n",
    "    y = train_labels,\n",
    "    batch_size = 192,\n",
    "    epochs = 100,\n",
    "    verbose = 1,\n",
    "    callbacks = None,\n",
    "    validation_data = (val_data, val_labels),\n",
    "    shuffle = True,\n",
    "    class_weight = {0:0.5, 1:10}\n",
    ")"
   ]
  },
  {
   "cell_type": "code",
   "execution_count": null,
   "metadata": {},
   "outputs": [],
   "source": [
    "model.load_weights(\"initials.h5\")\n",
    "history = model.fit(\n",
    "    x = {'I1':train_data, 'I2':new_train_data}, \n",
    "    y = {'O1':train_labels, 'O2': new_train_labels},\n",
    "    batch_size = 32,\n",
    "    epochs = 10,\n",
    "    verbose = 1,\n",
    "    callbacks = None,\n",
    "    validation_data = [(val_data,new_val_data),(val_labels, new_val_labels)],\n",
    ")"
   ]
  },
  {
   "cell_type": "code",
   "execution_count": null,
   "metadata": {},
   "outputs": [],
   "source": []
  },
  {
   "cell_type": "code",
   "execution_count": null,
   "metadata": {},
   "outputs": [],
   "source": [
    "test_loss= model.evaluate(\n",
    "    x = {'I1':train_data, 'I2':new_train_data}, \n",
    "    y = {'O1':train_labels, 'O2': new_train_labels},\n",
    "    batch_size = 32,\n",
    "    verbose = 1\n",
    ")\n",
    "test_loss"
   ]
  },
  {
   "cell_type": "code",
   "execution_count": null,
   "metadata": {},
   "outputs": [],
   "source": [
    "predictions_probabilities = model.predict(x = {'I1':train_data, 'I2':new_train_data})\n",
    "predictions_probabilities[0]"
   ]
  },
  {
   "cell_type": "code",
   "execution_count": null,
   "metadata": {},
   "outputs": [],
   "source": [
    "predictions1 = tf.math.argmax(predictions_probabilities[0], 1).numpy()\n",
    "predictions2 = tf.math.argmax(predictions_probabilities[1], 1).numpy()\n",
    "predictions2\n"
   ]
  },
  {
   "cell_type": "code",
   "execution_count": null,
   "metadata": {},
   "outputs": [],
   "source": []
  },
  {
   "cell_type": "code",
   "execution_count": null,
   "metadata": {},
   "outputs": [],
   "source": []
  },
  {
   "cell_type": "code",
   "execution_count": null,
   "metadata": {},
   "outputs": [],
   "source": []
  },
  {
   "cell_type": "code",
   "execution_count": null,
   "metadata": {},
   "outputs": [],
   "source": []
  },
  {
   "cell_type": "code",
   "execution_count": null,
   "metadata": {},
   "outputs": [],
   "source": []
  },
  {
   "cell_type": "code",
   "execution_count": null,
   "metadata": {},
   "outputs": [],
   "source": []
  },
  {
   "cell_type": "code",
   "execution_count": null,
   "metadata": {},
   "outputs": [],
   "source": []
  },
  {
   "cell_type": "code",
   "execution_count": null,
   "metadata": {},
   "outputs": [],
   "source": []
  }
 ],
 "metadata": {
  "kernelspec": {
   "display_name": "Python 3",
   "language": "python",
   "name": "python3"
  },
  "language_info": {
   "codemirror_mode": {
    "name": "ipython",
    "version": 3
   },
   "file_extension": ".py",
   "mimetype": "text/x-python",
   "name": "python",
   "nbconvert_exporter": "python",
   "pygments_lexer": "ipython3",
   "version": "3.7.6"
  }
 },
 "nbformat": 4,
 "nbformat_minor": 4
}
