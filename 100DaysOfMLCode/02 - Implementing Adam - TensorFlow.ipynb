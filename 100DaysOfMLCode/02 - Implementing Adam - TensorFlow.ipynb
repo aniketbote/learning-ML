{
 "cells": [
  {
   "cell_type": "markdown",
   "metadata": {},
   "source": [
    "## Implementing Linear Regression from scratch using Adam in TensorFlow"
   ]
  },
  {
   "cell_type": "code",
   "execution_count": 1,
   "metadata": {},
   "outputs": [],
   "source": [
    "import tensorflow as tf\n",
    "import numpy as np\n",
    "import matplotlib.pyplot as plt"
   ]
  },
  {
   "cell_type": "code",
   "execution_count": 2,
   "metadata": {},
   "outputs": [
    {
     "data": {
      "text/plain": [
       "<tf.Tensor: shape=(10, 1), dtype=float32, numpy=\n",
       "array([[ 8.],\n",
       "       [24.],\n",
       "       [67.],\n",
       "       [87.],\n",
       "       [79.],\n",
       "       [48.],\n",
       "       [10.],\n",
       "       [94.],\n",
       "       [52.],\n",
       "       [98.]], dtype=float32)>"
      ]
     },
     "execution_count": 2,
     "metadata": {},
     "output_type": "execute_result"
    }
   ],
   "source": [
    "# Generating features\n",
    "np.random.seed(100)\n",
    "x = tf.constant(np.random.randint(100, size =(10,1)), dtype = tf.float32)\n",
    "x"
   ]
  },
  {
   "cell_type": "code",
   "execution_count": 3,
   "metadata": {},
   "outputs": [
    {
     "data": {
      "text/plain": [
       "<tf.Tensor: shape=(10,), dtype=float32, numpy=\n",
       "array([ 11.,  43., 129., 169., 153.,  91.,  15., 183.,  99., 191.],\n",
       "      dtype=float32)>"
      ]
     },
     "execution_count": 3,
     "metadata": {},
     "output_type": "execute_result"
    }
   ],
   "source": [
    "# Generating lables with w and b.\n",
    "# w1 = 1  w2 = 3   b = 5\n",
    "w = [2]\n",
    "b = -5\n",
    "\n",
    "# y = w1*x1 + w2*x2 + b \n",
    "m = tf.constant(np.asarray([w]), dtype = tf.float32)\n",
    "b = tf.constant(b, dtype = tf.float32)\n",
    "y = tf.squeeze(tf.matmul(m,x, transpose_b = True) + b)\n",
    "y"
   ]
  },
  {
   "cell_type": "code",
   "execution_count": 4,
   "metadata": {},
   "outputs": [
    {
     "data": {
      "text/plain": [
       "Text(0, 0.5, 'Y')"
      ]
     },
     "execution_count": 4,
     "metadata": {},
     "output_type": "execute_result"
    },
    {
     "data": {
      "image/png": "[encoded data removed]",
      "text/plain": [
       "<Figure size 432x288 with 1 Axes>"
      ]
     },
     "metadata": {
      "needs_background": "light"
     },
     "output_type": "display_data"
    }
   ],
   "source": [
    "# visualizing the data for univariate\n",
    "plt.plot(x, y, marker='o')\n",
    "plt.xlabel(\"X\")\n",
    "plt.ylabel(\"Y\")\n"
   ]
  },
  {
   "cell_type": "code",
   "execution_count": 5,
   "metadata": {},
   "outputs": [],
   "source": [
    "# Computing rmse loss function\n",
    "def compute_rmse(y_label, y_pred):\n",
    "    return tf.sqrt(tf.reduce_mean(((y_label - y_pred)**2)))\n",
    "\n",
    "def compute_mse(y_label, y_pred):\n",
    "    return tf.reduce_mean(((y_label - y_pred)**2))\n"
   ]
  },
  {
   "cell_type": "code",
   "execution_count": 6,
   "metadata": {},
   "outputs": [],
   "source": [
    "# Computing gradients\n",
    "def gradients_mse(X, Y, Y_PREDS):\n",
    "    DW1 = tf.matmul(X, tf.reshape(Y-Y_PREDS, (X.shape[0],1)), transpose_a = True) * (-2/X.shape[0])\n",
    "    DW0 = (-2 / X.shape[0]) * tf.reduce_sum(Y - Y_PREDS)\n",
    "    return DW1, DW0\n",
    "    "
   ]
  },
  {
   "cell_type": "code",
   "execution_count": 7,
   "metadata": {},
   "outputs": [
    {
     "data": {
      "text/plain": [
       "array([[-1.25413127]])"
      ]
     },
     "execution_count": 7,
     "metadata": {},
     "output_type": "execute_result"
    }
   ],
   "source": [
    "w_vector = np.random.uniform(-2,2, size =(x.shape[1],1))\n",
    "w_vector"
   ]
  },
  {
   "cell_type": "code",
   "execution_count": 25,
   "metadata": {},
   "outputs": [
    {
     "name": "stdout",
     "output_type": "stream",
     "text": [
      "Final Results\n",
      "================================\n",
      "w3 : [[-1.25313]]\n",
      "w4 : 0.0009999396279454231\n",
      "Final Loss : 43143.76171875\n"
     ]
    }
   ],
   "source": [
    "EPOCHS = 100\n",
    "\n",
    "w3 = tf.Variable(w_vector, dtype = tf.float32)\n",
    "w4 = tf.Variable(0, dtype = tf.float32)\n",
    "\n",
    "w1 = tf.Variable(w_vector, dtype = tf.float32)\n",
    "w0 = tf.Variable(0, dtype = tf.float32)\n",
    "lr = 1e-5\n",
    "LOSS = []\n",
    "\n",
    "beta1 = 0.9\n",
    "beta2 = 0.999\n",
    "epilson = 1e-7\n",
    "sdw3 = tf.zeros(w3.shape)\n",
    "sdw4 = tf.zeros(w4.shape)\n",
    "\n",
    "vdw3 = tf.zeros(w3.shape)\n",
    "vdw4 = tf.zeros(w4.shape)\n",
    "\n",
    "for epoch in range(1, EPOCHS+1):\n",
    "    with tf.GradientTape() as tape:\n",
    "        y_pred = tf.squeeze(tf.matmul(w1,x, transpose_a = True, transpose_b = True) + w0)\n",
    "        loss = compute_mse(y, y_pred)\n",
    "    \n",
    "    gradients = tape.gradient(loss, [w1, w0])\n",
    "    w1.assign_sub(gradients[0] * lr)\n",
    "    w0.assign_sub(gradients[1] * lr)\n",
    "    \n",
    "    y_pred1 = tf.squeeze(tf.matmul(w3,x, transpose_a = True, transpose_b = True) + w4)\n",
    "    dw3, dw4 = gradients_mse(x, y, y_pred1)\n",
    "    \n",
    "    lr_t = lr * (tf.sqrt(1 - tf.math.pow(beta2,epoch))/(1 - tf.math.pow(beta1,epoch)))\n",
    "    \n",
    "    sdw3 = beta2 * sdw3 + (1-beta2) * tf.square(dw3)\n",
    "    sdw4 = beta2 * sdw4 + (1-beta2) * tf.square(dw4)\n",
    "        \n",
    "    vdw3 = beta1 * vdw3 + (1-beta1) * dw3\n",
    "    vdw4 = beta1 * vdw4 + (1-beta1) * dw4\n",
    "            \n",
    "    w3.assign_sub(lr_t * (vdw3 / (tf.math.sqrt(sdw3 + epilson))))\n",
    "    w4.assign_sub(lr_t * (vdw4 / (tf.math.sqrt(sdw4 + epilson))))\n",
    "    \n",
    "    \n",
    "    loss = compute_mse(y, y_pred1)\n",
    "    LOSS.append(loss)\n",
    "    \n",
    "    \n",
    "    \n",
    "#     print(\"After Epoch: {} dw1: {} dw0: {}\".format(epoch, gradients[0].numpy(), gradients[1].numpy()))\n",
    "#     print(\"After Epoch: {} dw3: {} dw4: {}\".format(epoch, dw3.numpy(), dw4.numpy()))\n",
    "#     print()\n",
    "#     print(\"After Epoch: {} dw1: {} dw0: {}\".format(epoch, gradients[0].numpy() * lr, gradients[1].numpy() * lr))\n",
    "#     print(\"After Epoch: {} dw3: {} dw4: {}\".format(epoch, dw3.numpy() * lr, dw4.numpy() * lr))\n",
    "#     print()\n",
    "#     print(\"After Epoch: {} w1: {} w0: {}\".format(epoch, w1.numpy(), w0.numpy()))\n",
    "#     print(\"After Epoch: {} w3: {} w4: {}\".format(epoch, w3.numpy(), w4.numpy()))\n",
    "#     print('After Epoch: {} Loss Tensorflow = {} Loss Equation = {}'.format(epoch, loss, loss))\n",
    "#     print('---------------------------------------------------------------\\n')\n",
    "    \n",
    "    \n",
    "    \n",
    "print('Final Results')\n",
    "print('================================')\n",
    "# print('w1 : {}'.format(w1.numpy()))\n",
    "# print('w0 : {}'.format(w0.numpy()))\n",
    "print('w3 : {}'.format(w3.numpy()))\n",
    "print('w4 : {}'.format(w4.numpy()))\n",
    "print('Final Loss : {}'.format(LOSS[-1]))\n",
    "\n",
    "    \n",
    "\n",
    "\n",
    "    \n",
    "    \n",
    "\n",
    "    \n",
    "\n",
    "    \n",
    "    "
   ]
  },
  {
   "cell_type": "code",
   "execution_count": 26,
   "metadata": {},
   "outputs": [
    {
     "name": "stdout",
     "output_type": "stream",
     "text": [
      "w3 = [[-1.25313]]\n",
      "w4 = 0.000999946380034089\n",
      "Final Loss : 43143.76171875\n"
     ]
    }
   ],
   "source": [
    "# using keras to get same results\n",
    "def create_model():\n",
    "    model = tf.keras.Sequential()\n",
    "    model.add(tf.keras.layers.Dense(units = 1,  name = 'd1', input_shape = (x.shape[1],)))\n",
    "    \n",
    "    model.compile(optimizer=tf.keras.optimizers.Adam(\n",
    "    learning_rate=1e-5, beta_1=0.9, beta_2=0.999, epsilon=1e-07),\n",
    "                loss=\"mse\")\n",
    "    \n",
    "    return model\n",
    "model = create_model()\n",
    "\n",
    "d1 = model.get_layer('d1')\n",
    "d1_weights = [tf.constant(w_vector, dtype = tf.float32), tf.constant(np.array([0]), dtype = tf.float32)]\n",
    "d1.set_weights(d1_weights)\n",
    "d1.weights\n",
    "\n",
    "history = model.fit(x, y, epochs = 100,batch_size = 100, verbose = 0)\n",
    "d1 = model.get_layer('d1')\n",
    "print('w3 = {}'.format(d1.weights[0].numpy()))\n",
    "print('w4 = {}'.format(d1.weights[1].numpy()[0]))\n",
    "print('Final Loss : {}'.format(history.history['loss'][-1]))"
   ]
  },
  {
   "cell_type": "code",
   "execution_count": 27,
   "metadata": {},
   "outputs": [
    {
     "data": {
      "text/plain": [
       "Text(0, 0.5, 'Loss')"
      ]
     },
     "execution_count": 27,
     "metadata": {},
     "output_type": "execute_result"
    },
    {
     "data": {
      "image/png": "[encoded data removed]",
      "text/plain": [
       "<Figure size 432x288 with 1 Axes>"
      ]
     },
     "metadata": {
      "needs_background": "light"
     },
     "output_type": "display_data"
    }
   ],
   "source": [
    "plt.plot(range(1,len(LOSS)+1), LOSS)\n",
    "plt.xlabel('Epochs')\n",
    "plt.ylabel('Loss')"
   ]
  },
  {
   "cell_type": "code",
   "execution_count": 28,
   "metadata": {},
   "outputs": [
    {
     "data": {
      "text/plain": [
       "<tf.Tensor: shape=(10,), dtype=float32, numpy=\n",
       "array([ 15.498412,  46.415092, 129.50366 , 168.14952 , 152.69118 ,\n",
       "        92.79011 ,  19.362999, 181.67557 , 100.51928 , 189.40472 ],\n",
       "      dtype=float32)>"
      ]
     },
     "execution_count": 28,
     "metadata": {},
     "output_type": "execute_result"
    }
   ],
   "source": [
    "def predict(x, w1, w0):\n",
    "    return tf.squeeze(tf.matmul(w1,x, transpose_a = True, transpose_b = True) + w0)\n",
    "\n",
    "predict(x,w1, w0)\n",
    "\n",
    "    "
   ]
  },
  {
   "cell_type": "code",
   "execution_count": null,
   "metadata": {},
   "outputs": [],
   "source": []
  },
  {
   "cell_type": "code",
   "execution_count": null,
   "metadata": {},
   "outputs": [],
   "source": []
  },
  {
   "cell_type": "code",
   "execution_count": null,
   "metadata": {},
   "outputs": [],
   "source": []
  },
  {
   "cell_type": "code",
   "execution_count": null,
   "metadata": {},
   "outputs": [],
   "source": []
  },
  {
   "cell_type": "code",
   "execution_count": null,
   "metadata": {},
   "outputs": [],
   "source": []
  },
  {
   "cell_type": "code",
   "execution_count": null,
   "metadata": {},
   "outputs": [],
   "source": []
  },
  {
   "cell_type": "code",
   "execution_count": null,
   "metadata": {},
   "outputs": [],
   "source": []
  },
  {
   "cell_type": "code",
   "execution_count": null,
   "metadata": {},
   "outputs": [],
   "source": []
  },
  {
   "cell_type": "code",
   "execution_count": null,
   "metadata": {},
   "outputs": [],
   "source": []
  },
  {
   "cell_type": "code",
   "execution_count": null,
   "metadata": {},
   "outputs": [],
   "source": []
  }
 ],
 "metadata": {
  "kernelspec": {
   "display_name": "Python 3",
   "language": "python",
   "name": "python3"
  },
  "language_info": {
   "codemirror_mode": {
    "name": "ipython",
    "version": 3
   },
   "file_extension": ".py",
   "mimetype": "text/x-python",
   "name": "python",
   "nbconvert_exporter": "python",
   "pygments_lexer": "ipython3",
   "version": "3.7.6"
  }
 },
 "nbformat": 4,
 "nbformat_minor": 4
}
