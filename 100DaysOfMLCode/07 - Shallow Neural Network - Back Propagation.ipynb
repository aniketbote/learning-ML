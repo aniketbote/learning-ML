{
 "cells": [
  {
   "cell_type": "code",
   "execution_count": 1,
   "metadata": {},
   "outputs": [],
   "source": [
    "import numpy as np\n",
    "import tensorflow as tf"
   ]
  },
  {
   "cell_type": "code",
   "execution_count": 2,
   "metadata": {},
   "outputs": [],
   "source": [
    "m = 100\n",
    "x = tf.constant(np.random.uniform(size =(2,m)), dtype = tf.float32)\n",
    "y = tf.constant(np.random.randint(2,size =(1,m)), dtype = tf.float32)"
   ]
  },
  {
   "cell_type": "code",
   "execution_count": 3,
   "metadata": {},
   "outputs": [],
   "source": [
    "w1 = tf.constant(np.random.uniform(size =(4, 2)), dtype = tf.float32)\n",
    "b1 = tf.constant(np.zeros(shape = (4, 1)), dtype = tf.float32)\n",
    "\n",
    "w2 = tf.constant(np.random.uniform(size =(1, 4)), dtype = tf.float32)\n",
    "b2 = tf.constant(np.zeros(shape = (1, 1)), dtype = tf.float32)"
   ]
  },
  {
   "cell_type": "code",
   "execution_count": 4,
   "metadata": {},
   "outputs": [],
   "source": [
    "class Dense():\n",
    "    def __init__(self, units, input_shape, activation, weights, bias):\n",
    "        self.units = units\n",
    "        self.input_shape = input_shape\n",
    "        self.activation = activation\n",
    "        self.weights = weights\n",
    "        self.bias = bias\n",
    "    def __call__(self, X):\n",
    "        if self.activation == 'sigmoid':\n",
    "            return tf.math.sigmoid(tf.matmul(self.weights, X) + self.bias)\n",
    "        if self.activation == 'tanh':\n",
    "            return tf.math.tanh(tf.matmul(self.weights, X) + self.bias)\n",
    "        \n",
    "    def update_weights(self,dw, lr):\n",
    "        self.weights = self.weights - lr * dw\n",
    "        \n",
    "    def update_bias(self,db, lr):\n",
    "        self.bias = self.bias - lr * db\n",
    "        \n",
    "    \n",
    "    def get_weights(self):\n",
    "        return self.weights, self.bias"
   ]
  },
  {
   "cell_type": "code",
   "execution_count": 5,
   "metadata": {},
   "outputs": [],
   "source": [
    "h1 = Dense(units = 4, input_shape = 2, activation = 'tanh', weights = w1, bias = b1)\n",
    "o1 = Dense(units = 1, input_shape = 4, activation = 'sigmoid', weights = w2, bias = b2)\n",
    "y_hat = o1(h1(x))"
   ]
  },
  {
   "cell_type": "code",
   "execution_count": 93,
   "metadata": {},
   "outputs": [
    {
     "name": "stdout",
     "output_type": "stream",
     "text": [
      "Epoch: 1   loss: 0.6761887073516846\n",
      "Epoch: 2   loss: 0.6744393110275269\n",
      "Epoch: 3   loss: 0.6728968620300293\n",
      "Epoch: 4   loss: 0.6715371012687683\n",
      "Epoch: 5   loss: 0.6703384518623352\n",
      "Epoch: 6   loss: 0.6692817807197571\n",
      "Epoch: 7   loss: 0.668350100517273\n",
      "Epoch: 8   loss: 0.6675285696983337\n",
      "Epoch: 9   loss: 0.6668040156364441\n",
      "Epoch: 10   loss: 0.666164755821228\n"
     ]
    }
   ],
   "source": [
    "h1 = Dense(units = 4, input_shape = 2, activation = 'tanh', weights = w1, bias = b1)\n",
    "o1 = Dense(units = 1, input_shape = 4, activation = 'sigmoid', weights = w2, bias = b2)\n",
    "\n",
    "lr = 0.1\n",
    "EPOCHS = 10\n",
    "for i in range(EPOCHS):\n",
    "    y_hat = o1(h1(x))\n",
    "    loss = tf.squeeze((tf.matmul(y,tf.math.log(y_hat), transpose_b = True) + tf.matmul(1 - y,tf.math.log(1 - y_hat), transpose_b = True)) * (-1/m))\n",
    "\n",
    "    # second layer derivative calculation\n",
    "    dLda2 = - ((y / y_hat) - ((1 - y)/(1 - y_hat)))\n",
    "    da2dz2 = y_hat * (1 - y_hat)\n",
    "    dLdz2 = dLda2 * da2dz2\n",
    "    \n",
    "    dw2 = tf.matmul(dLdz2, h1(x), transpose_b = True) / m\n",
    "    db2 = tf.reduce_sum(dLdz2, axis = 1, keepdims = True) / m\n",
    "\n",
    "    # first layer\n",
    "    w2_matrix = o1.get_weights()9[0]\n",
    "    dLdz1 = tf.matmul(w2_matrix, dLdz2, transpose_a = True) * (1 - tf.math.pow(h1(x),2))\n",
    "    \n",
    "    dw1 = tf.matmul(dLdz1, x, transpose_b = True) / m\n",
    "    db1 = tf.reduce_sum(dLdz1, axis = 1, keepdims = True) / m\n",
    "\n",
    "    h1.update_weights(dw1, lr)\n",
    "    h1.update_bias(db1, lr)\n",
    "    o1.update_weights(dw2, lr)\n",
    "    o1.update_bias(db2, lr)\n",
    "    print('Epoch: {}   loss: {}'.format(i+1, loss))\n"
   ]
  },
  {
   "cell_type": "code",
   "execution_count": 14,
   "metadata": {},
   "outputs": [
    {
     "data": {
      "text/plain": [
       "TensorShape([4, 100])"
      ]
     },
     "execution_count": 14,
     "metadata": {},
     "output_type": "execute_result"
    }
   ],
   "source": [
    "# w2_matrix = o1.get_weights()[0]\n",
    "# dLdz1 = tf.matmul(w2_matrix, dLdz2, transpose_a = True) * (1 - tf.math.pow(h1(x),2))\n",
    "# dLdz1.shape\n",
    "(1 - tf.math.pow(h1(x),2)).shape"
   ]
  },
  {
   "cell_type": "code",
   "execution_count": 92,
   "metadata": {},
   "outputs": [
    {
     "name": "stdout",
     "output_type": "stream",
     "text": [
      "Epoch 1/10\n",
      "1/1 [==============================] - 0s 2ms/step - loss: 0.6762 - accuracy: 0.6100\n",
      "Epoch 2/10\n",
      "1/1 [==============================] - 0s 997us/step - loss: 0.6744 - accuracy: 0.6100\n",
      "Epoch 3/10\n",
      "1/1 [==============================] - 0s 993us/step - loss: 0.6729 - accuracy: 0.6100\n",
      "Epoch 4/10\n",
      "1/1 [==============================] - 0s 998us/step - loss: 0.6715 - accuracy: 0.6100\n",
      "Epoch 5/10\n",
      "1/1 [==============================] - 0s 997us/step - loss: 0.6703 - accuracy: 0.6100\n",
      "Epoch 6/10\n",
      "1/1 [==============================] - 0s 983us/step - loss: 0.6693 - accuracy: 0.6100\n",
      "Epoch 7/10\n",
      "1/1 [==============================] - 0s 2ms/step - loss: 0.6684 - accuracy: 0.6100\n",
      "Epoch 8/10\n",
      "1/1 [==============================] - 0s 996us/step - loss: 0.6675 - accuracy: 0.6100\n",
      "Epoch 9/10\n",
      "1/1 [==============================] - 0s 996us/step - loss: 0.6668 - accuracy: 0.6100\n",
      "Epoch 10/10\n",
      "1/1 [==============================] - 0s 988us/step - loss: 0.6662 - accuracy: 0.6100\n"
     ]
    },
    {
     "data": {
      "text/plain": [
       "<tensorflow.python.keras.callbacks.History at 0x14d2bf53bc8>"
      ]
     },
     "execution_count": 92,
     "metadata": {},
     "output_type": "execute_result"
    }
   ],
   "source": [
    "# using keras to get same results\n",
    "def create_model():\n",
    "    model = tf.keras.Sequential()\n",
    "    model.add(tf.keras.layers.Dense(units = 4,activation = 'tanh',  name = 'd1', input_shape = (x.shape[0],)))\n",
    "    model.add(tf.keras.layers.Dense(units = 1,activation = 'sigmoid',  name = 'o1'))\n",
    "    \n",
    "    model.compile(optimizer=tf.keras.optimizers.SGD(lr=0.1),\n",
    "                loss='binary_crossentropy', metrics = ['accuracy'])\n",
    "    \n",
    "    return model\n",
    "model = create_model()\n",
    "\n",
    "d1 = model.get_layer('d1')\n",
    "d1_weights = [tf.constant(tf.transpose(w1), dtype = tf.float32), tf.constant(tf.squeeze(b1), dtype = tf.float32)]\n",
    "d1.set_weights(d1_weights)\n",
    "\n",
    "o1 = model.get_layer('o1')\n",
    "o1_weights = [tf.constant(tf.transpose(w2), dtype = tf.float32), tf.constant(tf.squeeze(b2, axis = 1), dtype = tf.float32)]\n",
    "o1.set_weights(o1_weights)\n",
    "\n",
    "xt = tf.transpose(x)\n",
    "yt = tf.transpose(y)\n",
    "model.fit(xt, yt, epochs = 10, batch_size = 1000)\n"
   ]
  },
  {
   "cell_type": "code",
   "execution_count": null,
   "metadata": {},
   "outputs": [],
   "source": []
  },
  {
   "cell_type": "code",
   "execution_count": null,
   "metadata": {},
   "outputs": [],
   "source": []
  },
  {
   "cell_type": "code",
   "execution_count": null,
   "metadata": {},
   "outputs": [],
   "source": []
  },
  {
   "cell_type": "code",
   "execution_count": null,
   "metadata": {},
   "outputs": [],
   "source": []
  },
  {
   "cell_type": "code",
   "execution_count": null,
   "metadata": {},
   "outputs": [],
   "source": []
  },
  {
   "cell_type": "code",
   "execution_count": null,
   "metadata": {},
   "outputs": [],
   "source": []
  }
 ],
 "metadata": {
  "kernelspec": {
   "display_name": "Python 3",
   "language": "python",
   "name": "python3"
  },
  "language_info": {
   "codemirror_mode": {
    "name": "ipython",
    "version": 3
   },
   "file_extension": ".py",
   "mimetype": "text/x-python",
   "name": "python",
   "nbconvert_exporter": "python",
   "pygments_lexer": "ipython3",
   "version": "3.7.6"
  }
 },
 "nbformat": 4,
 "nbformat_minor": 4
}
