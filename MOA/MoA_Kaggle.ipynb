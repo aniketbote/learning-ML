{
 "cells": [
  {
   "cell_type": "code",
   "execution_count": null,
   "metadata": {
    "id": "lgQDVCRdBTRD"
   },
   "outputs": [],
   "source": [
    "!pip uninstall -y kaggle\n",
    "!pip install --upgrade pip\n",
    "!pip install kaggle\n",
    "!pip install -q -U keras-tuner"
   ]
  },
  {
   "cell_type": "code",
   "execution_count": null,
   "metadata": {
    "id": "vjWQExt3Aumi"
   },
   "outputs": [],
   "source": [
    "from google.colab import drive\n",
    "drive.mount('/content/drive')"
   ]
  },
  {
   "cell_type": "code",
   "execution_count": null,
   "metadata": {
    "id": "FDnBRNImA3Ou"
   },
   "outputs": [],
   "source": [
    "!mkdir ~/.kaggle\n",
    "!cp /content/drive/My\\ Drive/kaggle.json ~/.kaggle/kaggle.json"
   ]
  },
  {
   "cell_type": "code",
   "execution_count": null,
   "metadata": {
    "id": "aVfJz3AJA-7K"
   },
   "outputs": [],
   "source": [
    "!kaggle competitions download -c lish-moa"
   ]
  },
  {
   "cell_type": "code",
   "execution_count": null,
   "metadata": {
    "id": "fbA3K-i0BFd9"
   },
   "outputs": [],
   "source": [
    "!unzip /content/lish-moa.zip"
   ]
  },
  {
   "cell_type": "code",
   "execution_count": null,
   "metadata": {
    "id": "NXc6P9xgC9oX"
   },
   "outputs": [],
   "source": [
    "import pandas as pd\n",
    "import numpy as np\n",
    "\n",
    "import tensorflow as tf\n",
    "import kerastuner as kt\n",
    "import IPython"
   ]
  },
  {
   "cell_type": "code",
   "execution_count": null,
   "metadata": {
    "id": "5DfHN5njDGvy"
   },
   "outputs": [],
   "source": [
    "train_df = pd.read_csv('train_features.csv')\n",
    "train_labels = pd.read_csv('train_targets_scored.csv')"
   ]
  },
  {
   "cell_type": "code",
   "execution_count": null,
   "metadata": {
    "id": "PEAZNaEaDS8A"
   },
   "outputs": [],
   "source": [
    "train_df.head()"
   ]
  },
  {
   "cell_type": "code",
   "execution_count": null,
   "metadata": {
    "id": "fpa1ylojJoPX"
   },
   "outputs": [],
   "source": [
    "# Removing unwanted column\n",
    "train_df.pop('sig_id')\n",
    "train_labels.pop('sig_id')\n"
   ]
  },
  {
   "cell_type": "code",
   "execution_count": null,
   "metadata": {
    "id": "ZC_OCtCTDn8F"
   },
   "outputs": [],
   "source": [
    "# Handling String features\n",
    "cp_dose_mapping = {'D1':0, 'D2':1}\n",
    "train_df['cp_dose'] = train_df['cp_dose'].apply(lambda x: cp_dose_mapping[x])\n",
    "\n",
    "cp_type_mapping = {'ctl_vehicle':0, 'trt_cp':1}\n",
    "train_df['cp_type'] = train_df['cp_type'].apply(lambda x: cp_type_mapping[x])"
   ]
  },
  {
   "cell_type": "code",
   "execution_count": null,
   "metadata": {
    "id": "BEH3yuAjDsM2"
   },
   "outputs": [],
   "source": [
    "# Handling Categorical features\n",
    "cp_time_mapping = {24:0, 48:1, 72:2}\n",
    "train_df['cp_time'] = train_df['cp_time'].apply(lambda x: cp_time_mapping[x])"
   ]
  },
  {
   "cell_type": "code",
   "execution_count": null,
   "metadata": {
    "id": "4qGFOZ8ZERpk"
   },
   "outputs": [],
   "source": [
    "train_df.head()"
   ]
  },
  {
   "cell_type": "code",
   "execution_count": null,
   "metadata": {
    "id": "lnEE_n8RFz_j"
   },
   "outputs": [],
   "source": [
    "# Standardize the Data"
   ]
  },
  {
   "cell_type": "code",
   "execution_count": null,
   "metadata": {
    "id": "GRh-CFaC3th4"
   },
   "outputs": [],
   "source": [
    "def create_model():\n",
    "  input = tf.keras.layers.Input(shape=(875))\n",
    "  dense1 = tf.keras.layers.Dense(units = 256, activation = 'relu')(input)\n",
    "  dropout1 = tf.keras.layers.Dropout(0.2)(dense1)\n",
    "  dense2 = tf.keras.layers.Dense(units = 256, activation = 'relu')(dropout1)\n",
    "  dropout2 = tf.keras.layers.Dropout(0.2)(dense2)\n",
    "  dense3 = tf.keras.layers.Dense(units = 256, activation = 'relu')(dropout2)\n",
    "  dropout3 = tf.keras.layers.Dropout(0.2)(dense3)\n",
    "  dense4 = tf.keras.layers.Dense(units = 256, activation = 'relu')(dropout3)\n",
    "  dropout4 = tf.keras.layers.Dropout(0.2)(dense4)\n",
    "  dense5 = tf.keras.layers.Dense(units = 256, activation = 'relu')(dropout4)\n",
    "  dropout5 = tf.keras.layers.Dropout(0.2)(dense5)\n",
    "  dense6 = tf.keras.layers.Dense(units = 256, activation = 'relu')(dropout5)\n",
    "  dropout6 = tf.keras.layers.Dropout(0.2)(dense6)\n",
    "  dense7 = tf.keras.layers.Dense(units = 256, activation = 'relu')(dropout6)\n",
    "  dropout7 = tf.keras.layers.Dropout(0.2)(dense7)\n",
    "  dense8 = tf.keras.layers.Dense(units = 256, activation = 'relu')(dropout7)\n",
    "  dropout8 = tf.keras.layers.Dropout(0.2)(dense8)\n",
    "  dense9 = tf.keras.layers.Dense(units = 256, activation = 'relu')(dropout8)\n",
    "  dropout9 = tf.keras.layers.Dropout(0.2)(dense9)\n",
    "  output = tf.keras.layers.Dense(units = 206, activation = 'sigmoid')(dropout9)\n",
    "\n",
    "  model = tf.keras.Model(inputs = input, outputs = output)\n",
    "  model.compile(optimizer = tf.keras.optimizers.Adam(learning_rate = 1e-2), loss='binary_crossentropy', metrics = ['accuracy'])\n",
    "\n",
    "  return model\n",
    "\n",
    "model = create_model()\n",
    "tf.keras.utils.plot_model(model, 'my_first_model.png', show_shapes=True)"
   ]
  },
  {
   "cell_type": "code",
   "execution_count": null,
   "metadata": {
    "id": "JxH_VUDm3t_7"
   },
   "outputs": [],
   "source": [
    "CALLBACKS = []\n",
    "# early_stopping = tf.keras.callbacks.EarlyStopping(monitor = 'val_accuracy', patience = 10)\n",
    "save_model = tf.keras.callbacks.ModelCheckpoint('/content/best_model.h5',monitor = 'val_accuracy', save_best_only=True)\n",
    "CALLBACKS.append(save_model)"
   ]
  },
  {
   "cell_type": "code",
   "execution_count": null,
   "metadata": {
    "id": "IbkmzTyq5NdW"
   },
   "outputs": [],
   "source": [
    "model = tf.keras.models.load_model('/content/best_model.h5')\n",
    "model.fit(x = train_df, y = train_labels, batch_size=1024, epochs = 100, validation_split= 0.3, callbacks=CALLBACKS)"
   ]
  },
  {
   "cell_type": "code",
   "execution_count": null,
   "metadata": {
    "id": "4Zb-5K1M5OCq"
   },
   "outputs": [],
   "source": [
    "model1 = tf.keras.models.load_model('best_model.h5')\n"
   ]
  },
  {
   "cell_type": "code",
   "execution_count": null,
   "metadata": {
    "id": "baSlXPdP5OP4"
   },
   "outputs": [],
   "source": []
  },
  {
   "cell_type": "code",
   "execution_count": null,
   "metadata": {
    "id": "iYx0sUvm5Nz-"
   },
   "outputs": [],
   "source": []
  },
  {
   "cell_type": "code",
   "execution_count": null,
   "metadata": {
    "id": "w0Pw9PqhGodO"
   },
   "outputs": [],
   "source": [
    "train_labels.head()"
   ]
  },
  {
   "cell_type": "code",
   "execution_count": null,
   "metadata": {
    "id": "whvvNgs9KM0a"
   },
   "outputs": [],
   "source": [
    "def create_model(hp = None):\n",
    "  input = tf.keras.layers.Input(shape=(875))\n",
    "  if hp is not None:\n",
    "    hp_units = hp.Int('units', min_value = 32, max_value = 512, step = 16)\n",
    "    dense1 = tf.keras.layers.Dense(units = hp_units, activation = 'relu')(input)\n",
    "  else:\n",
    "    dense1 = tf.keras.layers.Dense(units = 32, activation = 'relu')(input)\n",
    "  \n",
    "  output = tf.keras.layers.Dense(units = 206, activation = 'sigmoid')(dense1)\n",
    "\n",
    "  model = tf.keras.Model(inputs = input, outputs = output)\n",
    "\n",
    "  if hp is not None:\n",
    "    hp_learning_rate = hp.Choice('learning_rate', values = [1e-2, 1e-3, 1e-4]) \n",
    "    model.compile(optimizer = tf.keras.optimizers.Adam(learning_rate = hp_learning_rate), loss='binary_crossentropy', metrics = ['accuracy'])\n",
    "  else:\n",
    "    model.compile(optimizer = tf.keras.optimizers.Adam(learning_rate = 1e-2), loss='binary_crossentropy', metrics = ['accuracy'])\n",
    "  \n",
    "  return model\n",
    "\n",
    "# model = create_model()\n",
    "# tf.keras.utils.plot_model(model, 'my_first_model.png', show_shapes=True)\n",
    "\n",
    "tuner = kt.Hyperband(create_model,\n",
    "                     objective = 'val_accuracy', \n",
    "                     max_epochs = 100,\n",
    "                     factor = 3,\n",
    "                     directory = 'my_dir',\n",
    "                     project_name = 'intro_to_kt')\n"
   ]
  },
  {
   "cell_type": "code",
   "execution_count": null,
   "metadata": {
    "id": "THZDmNVmTVRi"
   },
   "outputs": [],
   "source": [
    "# Callbacks\n",
    "class ClearTrainingOutput(tf.keras.callbacks.Callback):\n",
    "  def on_train_end(*args, **kwargs):\n",
    "    IPython.display.clear_output(wait = True)"
   ]
  },
  {
   "cell_type": "code",
   "execution_count": null,
   "metadata": {
    "id": "Cw8u0s7iPU5o"
   },
   "outputs": [],
   "source": [
    "model.fit(x = train_df, y = train_labels, batch_size=128, epochs = 10, validation_split= 0.3, callbacks=[ClearTrainingOutput()])"
   ]
  },
  {
   "cell_type": "code",
   "execution_count": null,
   "metadata": {
    "id": "xfoesuSeP2dh"
   },
   "outputs": [],
   "source": [
    "tuner.search(x = train_df, y = train_labels, epochs = 100, validation_split= 0.3, callbacks=[ClearTrainingOutput()])"
   ]
  },
  {
   "cell_type": "code",
   "execution_count": null,
   "metadata": {
    "id": "q1v3e6yqUEW7"
   },
   "outputs": [],
   "source": [
    "! rm -r my_dir"
   ]
  },
  {
   "cell_type": "code",
   "execution_count": null,
   "metadata": {
    "id": "zN-96yILUmF-"
   },
   "outputs": [],
   "source": []
  }
 ],
 "metadata": {
  "accelerator": "GPU",
  "colab": {
   "name": "MoA- Kaggle.ipynb",
   "private_outputs": true,
   "provenance": []
  },
  "kernelspec": {
   "display_name": "Python 3",
   "language": "python",
   "name": "python3"
  },
  "language_info": {
   "codemirror_mode": {
    "name": "ipython",
    "version": 3
   },
   "file_extension": ".py",
   "mimetype": "text/x-python",
   "name": "python",
   "nbconvert_exporter": "python",
   "pygments_lexer": "ipython3",
   "version": "3.7.6"
  }
 },
 "nbformat": 4,
 "nbformat_minor": 1
}
